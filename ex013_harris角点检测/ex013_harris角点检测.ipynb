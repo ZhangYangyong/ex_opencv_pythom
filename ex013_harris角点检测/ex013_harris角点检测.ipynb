{
 "cells": [
  {
   "cell_type": "code",
   "execution_count": 1,
   "metadata": {},
   "outputs": [],
   "source": [
    "import cv2\n",
    "import numpy as np"
   ]
  },
  {
   "cell_type": "code",
   "execution_count": 2,
   "metadata": {},
   "outputs": [],
   "source": [
    "# 算法的核心是利用局部窗口在图像上进行移动，判断灰度是否发生较大的变化。\n",
    "# 如果窗口内的灰度值（在梯度图上）都有较大的变化，那么这个窗口所在区域就存在角点。"
   ]
  },
  {
   "cell_type": "markdown",
   "metadata": {},
   "source": [
    "https://www.cnblogs.com/ronny/p/4009425.html"
   ]
  },
  {
   "cell_type": "markdown",
   "metadata": {},
   "source": [
    "![image.png](角点检测示意图.png)\n"
   ]
  },
  {
   "cell_type": "markdown",
   "metadata": {},
   "source": [
    "![img](../data/ex007.jpg)"
   ]
  },
  {
   "cell_type": "markdown",
   "metadata": {},
   "source": [
    "增大\n",
    "α\n",
    "的值，将减小角点响应值\n",
    "R\n",
    "，降低角点检测的灵性，减少被检测角点的数量；减小\n",
    "α\n",
    "值，将增大角点响应值\n",
    "R\n",
    "，增加角点检测的灵敏性，增加被检测角点的数量。"
   ]
  },
  {
   "cell_type": "code",
   "execution_count": 20,
   "metadata": {
    "scrolled": true
   },
   "outputs": [
    {
     "name": "stdout",
     "output_type": "stream",
     "text": [
      "(1198, 1200) (1198, 1200) float32\n"
     ]
    }
   ],
   "source": [
    "# cornerHarris(src, blockSize(窗口大小), ksize(sobel卷积核用于求梯度), k(响应值计算系数0.04)[, dst[, borderType]]) -> dst\n",
    "img = cv2.imread('../data/ex007.jpg')\n",
    "gray = cv2.cvtColor(img,cv2.COLOR_BGR2GRAY)\n",
    "dst = cv2.cornerHarris(gray,10,3,0.04)\n",
    "\n",
    "print(gray.shape,dst.shape,dst.dtype) # 每一个像素都可以计算出一个角点响应值R float32\n",
    "\n",
    "# 设定阈值,R大于阈值的才认为是角点\n",
    "# 实际上这一步通过局部非极大值抑制来处理\n",
    "mask = dst >(0.01*dst.max())\n",
    "img[mask] = [0,0,255]\n",
    "cv2.imshow('img',img)\n",
    "\n",
    "cv2.waitKey(0)\n",
    "cv2.destroyAllWindows()"
   ]
  },
  {
   "cell_type": "code",
   "execution_count": 16,
   "metadata": {},
   "outputs": [
    {
     "name": "stdout",
     "output_type": "stream",
     "text": [
      "-0.0018249477 0.009837534\n"
     ]
    }
   ],
   "source": [
    "# 角点响应图的展示\n",
    "min_value = dst.min()\n",
    "max_value = dst.max()\n",
    "print(min_value,max_value)\n",
    "res = (dst-min_value)/(max_value-min_value)*255\n",
    "res = res.astype(np.uint8)\n",
    "\n",
    "cv2.imshow('res',res)\n",
    "cv2.waitKey(0)\n",
    "cv2.destroyAllWindows()\n"
   ]
  },
  {
   "cell_type": "code",
   "execution_count": 19,
   "metadata": {},
   "outputs": [
    {
     "name": "stdout",
     "output_type": "stream",
     "text": [
      "[[0.00296902 0.01330621 0.02193823 0.01330621 0.00296902]\n",
      " [0.01330621 0.0596343  0.09832033 0.0596343  0.01330621]\n",
      " [0.02193823 0.09832033 0.16210282 0.09832033 0.02193823]\n",
      " [0.01330621 0.0596343  0.09832033 0.0596343  0.01330621]\n",
      " [0.00296902 0.01330621 0.02193823 0.01330621 0.00296902]]\n",
      "(1198, 1200)\n",
      "[[ 0.0000e+00 -4.0000e-02 -1.6000e-01 ... -4.0000e-02 -4.0000e-02\n",
      "   0.0000e+00]\n",
      " [-4.0000e-02 -1.6000e-01  1.3600e+00 ...  2.3600e+00  8.4000e-01\n",
      "  -4.0000e-02]\n",
      " [-1.6000e-01  6.4000e-01  8.4400e+00 ...  1.1440e+01  3.3600e+00\n",
      "   1.6400e+00]\n",
      " ...\n",
      " [ 7.8600e+01  1.8236e+02  2.7360e+01 ...  1.4944e+02  3.9800e+01\n",
      "   2.4680e+01]\n",
      " [ 3.6160e+01  7.3280e+01  1.3648e+02 ...  8.4800e+01  2.2240e+01\n",
      "   1.2160e+01]\n",
      " [ 2.0000e+01  2.5240e+01  5.6600e+01 ...  4.8000e+01  1.3440e+01\n",
      "   6.5600e+00]]\n",
      "2.5500000000000003\n"
     ]
    }
   ],
   "source": [
    "# 自己实现harris算法\n",
    "\n",
    "blockSize = 5 # 窗口大小\n",
    "sigma = 1\n",
    "ksize = 3 # 计算梯度核大小\n",
    "\n",
    "def get_gaussian_kernel(size, sigma):\n",
    "    ax = np.linspace(-(size - 1) / 2., (size - 1) / 2., size)\n",
    "    xx, yy = np.meshgrid(ax, ax)\n",
    "    kernel = np.exp(-0.5 * (np.square(xx) + np.square(yy)) / np.square(sigma))\n",
    "    return kernel / np.sum(kernel)\n",
    "\n",
    "img = cv2.imread('../data/ex007.jpg')\n",
    "gray = cv2.cvtColor(img,cv2.COLOR_BGR2GRAY)\n",
    "# _,gray = cv2.threshold(gray,200,255,cv2.THRESH_BINARY)\n",
    "# cv2.imshow('img',gray)\n",
    "# cv2.waitKey(0)\n",
    "# cv2.destroyAllWindows()\n",
    "\n",
    "gx = cv2.Sobel(gray,-1,dx =1,dy=0)\n",
    "gy = cv2.Sobel(gray,-1,dx =0,dy=1)\n",
    "\n",
    "gaussian_kernel = get_gaussian_kernel(blockSize,sigma)\n",
    "print(gaussian_kernel)\n",
    "\n",
    "#  M矩阵  [ Ix**2  Ix*Iy ]   A = Ix**2  B = Iy**2  C = IxIy  [ A  C ]\n",
    "#           Ix*Iy  Iy**2                                       C  B\n",
    "\n",
    "A = gx**2\n",
    "B = gy**2\n",
    "C = gx*gy\n",
    "\n",
    "# 对一个窗口内的值进行高斯平滑\n",
    "A = cv2.filter2D(A,-1,gaussian_kernel)\n",
    "B = cv2.filter2D(B,-1,gaussian_kernel)\n",
    "C = cv2.filter2D(C,-1,gaussian_kernel)\n",
    "\n",
    "R = A*B-C**2 - 0.04 *((A+B)**2)\n",
    "\n",
    "print(R.shape)\n",
    "print(R)\n",
    "mask = R >(0.01*R.max())\n",
    "print(0.01*R.max())\n",
    "\n",
    "img[mask] = [0,0,255]\n",
    "\n",
    "cv2.imshow('img',img)\n",
    "cv2.waitKey(0)\n",
    "cv2.destroyAllWindows()\n"
   ]
  },
  {
   "cell_type": "code",
   "execution_count": 33,
   "metadata": {},
   "outputs": [],
   "source": [
    "# shi-tomasi角点检测\n",
    "#cv2.goodFeaturesToTrack(image, maxCorners, qualityLevel, minDistance\n",
    "#                       [, corners[, mask[, blockSize[, useHarrisDetector[, k]]]]]) -> corners\n",
    "\n",
    "img = cv2.imread('../data/ex007.jpg')\n",
    "gray = cv2.cvtColor(img,cv2.COLOR_BGR2GRAY)\n",
    "\n",
    "corners = cv2.goodFeaturesToTrack(gray,1000,0.1,1)\n",
    "for point in corners:\n",
    "    x,y = point[0]\n",
    "    cv2.circle(img,(x,y),5,[0,0,255],-1)\n",
    "    \n",
    "cv2.imshow('img',img)\n",
    "cv2.waitKey(0)\n",
    "cv2.destroyAllWindows()    "
   ]
  },
  {
   "cell_type": "code",
   "execution_count": null,
   "metadata": {},
   "outputs": [],
   "source": []
  }
 ],
 "metadata": {
  "kernelspec": {
   "display_name": "opencv3_4_1_14",
   "language": "python",
   "name": "opencv3_4_1_14"
  },
  "language_info": {
   "codemirror_mode": {
    "name": "ipython",
    "version": 3
   },
   "file_extension": ".py",
   "mimetype": "text/x-python",
   "name": "python",
   "nbconvert_exporter": "python",
   "pygments_lexer": "ipython3",
   "version": "3.6.2"
  }
 },
 "nbformat": 4,
 "nbformat_minor": 1
}