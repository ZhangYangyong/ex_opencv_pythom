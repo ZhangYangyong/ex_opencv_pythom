{
 "cells": [
  {
   "cell_type": "code",
   "execution_count": 1,
   "metadata": {},
   "outputs": [],
   "source": [
    "import cv2\n",
    "import numpy as np"
   ]
  },
  {
   "cell_type": "code",
   "execution_count": 2,
   "metadata": {},
   "outputs": [],
   "source": [
    "# 算法的核心是利用局部窗口在图像上进行移动，判断灰度是否发生较大的变化。\n",
    "# 如果窗口内的灰度值（在梯度图上）都有较大的变化，那么这个窗口所在区域就存在角点。"
   ]
  },
  {
   "cell_type": "markdown",
   "metadata": {},
   "source": [
    "https://www.cnblogs.com/ronny/p/4009425.html"
   ]
  },
  {
   "cell_type": "markdown",
   "metadata": {},
   "source": [
    "![image.png](角点检测示意图.png)\n"
   ]
  },
  {
   "cell_type": "markdown",
   "metadata": {},
   "source": [
    "![img](../data/ex007.jpg)"
   ]
  },
  {
   "cell_type": "code",
   "execution_count": 19,
   "metadata": {
    "scrolled": true
   },
   "outputs": [
    {
     "name": "stdout",
     "output_type": "stream",
     "text": [
      "(1198, 1200) (1198, 1200) float32\n"
     ]
    }
   ],
   "source": [
    "# cornerHarris(src, blockSize(窗口大小), ksize(sobel卷积核用于求梯度), k(响应值计算系数0.04)[, dst[, borderType]]) -> dst\n",
    "img = cv2.imread('../data/ex007.jpg')\n",
    "gray = cv2.cvtColor(img,cv2.COLOR_BGR2GRAY)\n",
    "dst = cv2.cornerHarris(gray,10,3,0.04)\n",
    "\n",
    "print(gray.shape,dst.shape,dst.dtype) # 每一个像素都可以计算出一个角点响应值R float32\n",
    "\n",
    "# 设定阈值,R大于阈值的才认为是角点\n",
    "mask = dst >(0.01*dst.max())\n",
    "img[mask] = [0,0,255]\n",
    "cv2.imshow('img',img)\n",
    "\n",
    "cv2.waitKey(0)\n",
    "cv2.destroyAllWindows()"
   ]
  },
  {
   "cell_type": "code",
   "execution_count": 30,
   "metadata": {},
   "outputs": [
    {
     "name": "stdout",
     "output_type": "stream",
     "text": [
      "-0.0018249477 0.009837534\n"
     ]
    }
   ],
   "source": [
    "# 角点响应图的展示\n",
    "min_value = dst.min()\n",
    "max_value = dst.max()\n",
    "print(min_value,max_value)\n",
    "res = (dst-min_value)/(max_value-min_value)*255\n",
    "res = res.astype(np.uint8)\n",
    "\n",
    "cv2.imshow('res',res)\n",
    "cv2.waitKey(0)\n",
    "cv2.destroyAllWindows()\n"
   ]
  },
  {
   "cell_type": "code",
   "execution_count": null,
   "metadata": {},
   "outputs": [],
   "source": []
  }
 ],
 "metadata": {
  "kernelspec": {
   "display_name": "opencv3_4_1_14",
   "language": "python",
   "name": "opencv3_4_1_14"
  },
  "language_info": {
   "codemirror_mode": {
    "name": "ipython",
    "version": 3
   },
   "file_extension": ".py",
   "mimetype": "text/x-python",
   "name": "python",
   "nbconvert_exporter": "python",
   "pygments_lexer": "ipython3",
   "version": "3.6.2"
  }
 },
 "nbformat": 4,
 "nbformat_minor": 1
}
