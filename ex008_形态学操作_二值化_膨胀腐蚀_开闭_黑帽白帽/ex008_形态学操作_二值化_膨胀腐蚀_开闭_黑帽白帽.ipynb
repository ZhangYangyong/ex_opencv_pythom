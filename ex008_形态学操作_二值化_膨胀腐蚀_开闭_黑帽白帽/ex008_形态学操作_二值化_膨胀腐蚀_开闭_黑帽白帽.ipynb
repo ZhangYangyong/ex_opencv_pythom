{
 "cells": [
  {
   "cell_type": "code",
   "execution_count": 1,
   "id": "efc2094a",
   "metadata": {},
   "outputs": [],
   "source": [
    "import cv2\n",
    "import numpy as np"
   ]
  },
  {
   "cell_type": "code",
   "execution_count": 2,
   "id": "38e4f39e",
   "metadata": {},
   "outputs": [],
   "source": [
    "# 形态学操作一般都只针对二值化的图像进行"
   ]
  },
  {
   "cell_type": "code",
   "execution_count": 4,
   "id": "d03aa586",
   "metadata": {},
   "outputs": [],
   "source": [
    "# 全局二值化 threshold(src, thresh, maxval, type[, dst]) -> retval, dst\n",
    "\n",
    "# src：源图像，可以为8位的灰度图(最好是)，也可以为32位的彩色图像。（两者由区别）\n",
    "# dst：输出图像\n",
    "# thresh：阈值\n",
    "# maxval：dst图像中最大值\n",
    "# type: 操作类型(常用的)\n",
    "    # cv2.THRESH_BINARY         大于阈值的设为用户变量,小于为0\n",
    "    # cv2.THRESH_BINARY_INV     大于阈值设为0,小于设为用户变量\n",
    "    # cv2.THRESH_TOZERO         大于阈值不变,小于设为0\n",
    "    # cv2.THRESH_TOZERO_INV     大于阈值为0,小于不变\n",
    "    # cv2.THRESH_TRUNC          # 大于阈值等于阈值,相当于抹平"
   ]
  },
  {
   "cell_type": "code",
   "execution_count": 20,
   "id": "10cf3c44",
   "metadata": {},
   "outputs": [],
   "source": [
    "img = cv2.imread('../data/linna.jpg',0)\n",
    "\n",
    "retval, dst = cv2.threshold(img,127,255,cv2.THRESH_BINARY) # 这个会返回两个值 0是阈值,1是处理结果\n",
    "\n",
    "\n",
    "cv2.imshow('ex',dst)\n",
    "cv2.waitKey(0)\n",
    "cv2.destroyAllWindows()\n"
   ]
  },
  {
   "cell_type": "code",
   "execution_count": 21,
   "id": "324e7097",
   "metadata": {},
   "outputs": [],
   "source": [
    "# 自适应阈值二值化 (更精细的反应细节 blockSize越小,细节越丰富)\n",
    "# 这个时候,处理图像的时候内部每一个小区域自动计算阈值,在不同的区域应用各自的计算出的阈值进行处理,适应性更好\n",
    "\n",
    "# adaptiveThreshold(src, maxValue, adaptiveMethod, thresholdType, blockSize(不是元组,奇数), C(计算值的偏置)[, dst]) -> dst\n",
    "#  adaptiveMethod 计算域值的方法\n",
    "   # cv2.ADAPTIVE_THRESH_GAUSSIAN_C 采样区域的高斯加权平均值\n",
    "   # cv2.ADAPTIVE_THRESH_MEAN_C 采样区域的平均值"
   ]
  },
  {
   "cell_type": "code",
   "execution_count": 27,
   "id": "1aed17dc",
   "metadata": {},
   "outputs": [],
   "source": [
    "img = cv2.imread('../data/linna.jpg',0)\n",
    "dst = cv2.adaptiveThreshold(img, 255, cv2.ADAPTIVE_THRESH_GAUSSIAN_C, cv2.THRESH_BINARY ,201, C=0)\n",
    "\n",
    "cv2.imshow('ex',dst)\n",
    "cv2.waitKey(0)\n",
    "cv2.destroyAllWindows()"
   ]
  },
  {
   "cell_type": "code",
   "execution_count": 28,
   "id": "5819ae9e",
   "metadata": {},
   "outputs": [],
   "source": [
    "# 腐蚀操作(白色变少)\n",
    "# https://blog.csdn.net/B08370108/article/details/118028678\n",
    "# 腐蚀（erode）是求局部最小值的操作。\n",
    "# 从数学角度讲，膨胀或腐蚀操作就是将图像（或图像的一部分区域，称之为A）与核（称之为B）进行卷积。\n",
    "#核B与图形卷积，即计算核B覆盖的区域的像素点的最小值，并把这个最小值赋值给参考点指定的像素。\n",
    "# 这样就会使图像中的高亮区域逐渐减小\n",
    "# 核中的1标记采样的像素点,anchor表示赋值点 "
   ]
  },
  {
   "cell_type": "code",
   "execution_count": 31,
   "id": "60649cd1",
   "metadata": {},
   "outputs": [
    {
     "data": {
      "text/plain": [
       "True"
      ]
     },
     "execution_count": 31,
     "metadata": {},
     "output_type": "execute_result"
    }
   ],
   "source": [
    "# erode(src, kernel[, dst[, anchor[, iterations[, borderType[, borderValue]]]]]) -> dst\n",
    "img = cv2.imread('2023-09-17_163836.png',0)\n",
    "\n",
    "# 定义核\n",
    "kernel = np.ones((3,3),np.uint8)\n",
    "\n",
    "dst = cv2.erode(img,kernel)\n",
    "show_img = np.hstack((img,dst))\n",
    "cv2.imshow('ex',show_img)\n",
    "cv2.waitKey(0)\n",
    "cv2.destroyAllWindows()\n",
    "cv2.imwrite('erode_img.jpg',show_img)"
   ]
  },
  {
   "cell_type": "markdown",
   "id": "6ceb7861",
   "metadata": {},
   "source": [
    "![img](./erode_img.jpg)"
   ]
  },
  {
   "cell_type": "code",
   "execution_count": 34,
   "id": "0bca3e5b",
   "metadata": {
    "collapsed": true
   },
   "outputs": [
    {
     "data": {
      "text/plain": [
       "(array([[1, 1, 1, 1, 1, 1, 1, 1, 1, 1, 1, 1, 1, 1, 1],\n",
       "        [1, 1, 1, 1, 1, 1, 1, 1, 1, 1, 1, 1, 1, 1, 1],\n",
       "        [1, 1, 1, 1, 1, 1, 1, 1, 1, 1, 1, 1, 1, 1, 1],\n",
       "        [1, 1, 1, 1, 1, 1, 1, 1, 1, 1, 1, 1, 1, 1, 1],\n",
       "        [1, 1, 1, 1, 1, 1, 1, 1, 1, 1, 1, 1, 1, 1, 1],\n",
       "        [1, 1, 1, 1, 1, 1, 1, 1, 1, 1, 1, 1, 1, 1, 1],\n",
       "        [1, 1, 1, 1, 1, 1, 1, 1, 1, 1, 1, 1, 1, 1, 1],\n",
       "        [1, 1, 1, 1, 1, 1, 1, 1, 1, 1, 1, 1, 1, 1, 1],\n",
       "        [1, 1, 1, 1, 1, 1, 1, 1, 1, 1, 1, 1, 1, 1, 1],\n",
       "        [1, 1, 1, 1, 1, 1, 1, 1, 1, 1, 1, 1, 1, 1, 1],\n",
       "        [1, 1, 1, 1, 1, 1, 1, 1, 1, 1, 1, 1, 1, 1, 1],\n",
       "        [1, 1, 1, 1, 1, 1, 1, 1, 1, 1, 1, 1, 1, 1, 1],\n",
       "        [1, 1, 1, 1, 1, 1, 1, 1, 1, 1, 1, 1, 1, 1, 1],\n",
       "        [1, 1, 1, 1, 1, 1, 1, 1, 1, 1, 1, 1, 1, 1, 1],\n",
       "        [1, 1, 1, 1, 1, 1, 1, 1, 1, 1, 1, 1, 1, 1, 1]], dtype=uint8),\n",
       " '/n',\n",
       " array([[0, 0, 0, 0, 0, 0, 0, 1, 0, 0, 0, 0, 0, 0, 0],\n",
       "        [0, 0, 0, 0, 0, 0, 0, 1, 0, 0, 0, 0, 0, 0, 0],\n",
       "        [0, 0, 0, 0, 0, 0, 0, 1, 0, 0, 0, 0, 0, 0, 0],\n",
       "        [0, 0, 0, 0, 0, 0, 0, 1, 0, 0, 0, 0, 0, 0, 0],\n",
       "        [0, 0, 0, 0, 0, 0, 0, 1, 0, 0, 0, 0, 0, 0, 0],\n",
       "        [0, 0, 0, 0, 0, 0, 0, 1, 0, 0, 0, 0, 0, 0, 0],\n",
       "        [0, 0, 0, 0, 0, 0, 0, 1, 0, 0, 0, 0, 0, 0, 0],\n",
       "        [1, 1, 1, 1, 1, 1, 1, 1, 1, 1, 1, 1, 1, 1, 1],\n",
       "        [0, 0, 0, 0, 0, 0, 0, 1, 0, 0, 0, 0, 0, 0, 0],\n",
       "        [0, 0, 0, 0, 0, 0, 0, 1, 0, 0, 0, 0, 0, 0, 0],\n",
       "        [0, 0, 0, 0, 0, 0, 0, 1, 0, 0, 0, 0, 0, 0, 0],\n",
       "        [0, 0, 0, 0, 0, 0, 0, 1, 0, 0, 0, 0, 0, 0, 0],\n",
       "        [0, 0, 0, 0, 0, 0, 0, 1, 0, 0, 0, 0, 0, 0, 0],\n",
       "        [0, 0, 0, 0, 0, 0, 0, 1, 0, 0, 0, 0, 0, 0, 0],\n",
       "        [0, 0, 0, 0, 0, 0, 0, 1, 0, 0, 0, 0, 0, 0, 0]], dtype=uint8),\n",
       " '/n',\n",
       " array([[0, 0, 0, 0, 0, 0, 0, 1, 0, 0, 0, 0, 0, 0, 0],\n",
       "        [0, 0, 0, 0, 1, 1, 1, 1, 1, 1, 1, 0, 0, 0, 0],\n",
       "        [0, 0, 0, 1, 1, 1, 1, 1, 1, 1, 1, 1, 0, 0, 0],\n",
       "        [0, 0, 1, 1, 1, 1, 1, 1, 1, 1, 1, 1, 1, 0, 0],\n",
       "        [0, 0, 1, 1, 1, 1, 1, 1, 1, 1, 1, 1, 1, 0, 0],\n",
       "        [0, 1, 1, 1, 1, 1, 1, 1, 1, 1, 1, 1, 1, 1, 0],\n",
       "        [0, 1, 1, 1, 1, 1, 1, 1, 1, 1, 1, 1, 1, 1, 0],\n",
       "        [0, 1, 1, 1, 1, 1, 1, 1, 1, 1, 1, 1, 1, 1, 0],\n",
       "        [1, 1, 1, 1, 1, 1, 1, 1, 1, 1, 1, 1, 1, 1, 1],\n",
       "        [1, 1, 1, 1, 1, 1, 1, 1, 1, 1, 1, 1, 1, 1, 1],\n",
       "        [1, 1, 1, 1, 1, 1, 1, 1, 1, 1, 1, 1, 1, 1, 1],\n",
       "        [1, 1, 1, 1, 1, 1, 1, 1, 1, 1, 1, 1, 1, 1, 1],\n",
       "        [1, 1, 1, 1, 1, 1, 1, 1, 1, 1, 1, 1, 1, 1, 1],\n",
       "        [1, 1, 1, 1, 1, 1, 1, 1, 1, 1, 1, 1, 1, 1, 1],\n",
       "        [1, 1, 1, 1, 1, 1, 1, 1, 1, 1, 1, 1, 1, 1, 1],\n",
       "        [1, 1, 1, 1, 1, 1, 1, 1, 1, 1, 1, 1, 1, 1, 1],\n",
       "        [1, 1, 1, 1, 1, 1, 1, 1, 1, 1, 1, 1, 1, 1, 1],\n",
       "        [0, 1, 1, 1, 1, 1, 1, 1, 1, 1, 1, 1, 1, 1, 0],\n",
       "        [0, 1, 1, 1, 1, 1, 1, 1, 1, 1, 1, 1, 1, 1, 0],\n",
       "        [0, 1, 1, 1, 1, 1, 1, 1, 1, 1, 1, 1, 1, 1, 0],\n",
       "        [0, 0, 1, 1, 1, 1, 1, 1, 1, 1, 1, 1, 1, 0, 0],\n",
       "        [0, 0, 1, 1, 1, 1, 1, 1, 1, 1, 1, 1, 1, 0, 0],\n",
       "        [0, 0, 0, 1, 1, 1, 1, 1, 1, 1, 1, 1, 0, 0, 0],\n",
       "        [0, 0, 0, 0, 1, 1, 1, 1, 1, 1, 1, 0, 0, 0, 0],\n",
       "        [0, 0, 0, 0, 0, 0, 0, 1, 0, 0, 0, 0, 0, 0, 0]], dtype=uint8))"
      ]
     },
     "execution_count": 34,
     "metadata": {},
     "output_type": "execute_result"
    }
   ],
   "source": [
    "# opencv 提供了自带的核的样式\n",
    "# getStructuringElement(shape, ksize[, anchor]) -> retval\n",
    "# shape 不是指长宽,而是1的位置的类型\n",
    "# 矩形：MORPH_RECT; 交叉形：MORPH_CROSS; 椭圆形：MORPH_ELLIPSE;\n",
    "a = cv2.getStructuringElement(cv2.MORPH_RECT,(15,15))\n",
    "b = cv2.getStructuringElement(cv2.MORPH_CROSS,(15,15))\n",
    "c = cv2.getStructuringElement(cv2.MORPH_ELLIPSE,(15,25))\n",
    "a,'/n',b,'/n',c"
   ]
  },
  {
   "cell_type": "code",
   "execution_count": 35,
   "id": "14018a61",
   "metadata": {},
   "outputs": [
    {
     "data": {
      "text/plain": [
       "True"
      ]
     },
     "execution_count": 35,
     "metadata": {},
     "output_type": "execute_result"
    }
   ],
   "source": [
    "# 膨胀操作(白色增加) 与腐蚀相反\n",
    "# dilate(src, kernel[, dst[, anchor[, iterations[, borderType[, borderValue]]]]]) -> dst\n",
    "img = cv2.imread('2023-09-17_163836.png',0)\n",
    "kernel = cv2.getStructuringElement(cv2.MORPH_RECT,(3,3))\n",
    "\n",
    "dst = cv2.dilate(img,kernel)\n",
    "show_img = np.hstack((img,dst))\n",
    "cv2.imshow('ex',show_img)\n",
    "cv2.waitKey(0)\n",
    "cv2.destroyAllWindows()\n",
    "cv2.imwrite('dilate_img.jpg',show_img)"
   ]
  },
  {
   "cell_type": "markdown",
   "id": "33a386dc",
   "metadata": {},
   "source": [
    "![img](./dilate_img.jpg)"
   ]
  },
  {
   "cell_type": "code",
   "execution_count": 37,
   "id": "0dee36f8",
   "metadata": {},
   "outputs": [],
   "source": [
    "# 对于白色的毛刺,先腐蚀去掉毛刺,在膨胀还原因腐蚀而变下的主体\n",
    "img = cv2.imread('2023-09-17_163836.png',0)\n",
    "kernel = cv2.getStructuringElement(cv2.MORPH_RECT,(3,3))\n",
    "\n",
    "# 腐蚀\n",
    "dst = cv2.erode(img,kernel)\n",
    "# 膨胀\n",
    "dst = cv2.dilate(dst,kernel)\n",
    "\n",
    "show_img = np.hstack((img,dst))\n",
    "cv2.imshow('ex',show_img)\n",
    "cv2.waitKey(0)\n",
    "cv2.destroyAllWindows()\n",
    "\n"
   ]
  },
  {
   "cell_type": "code",
   "execution_count": 43,
   "id": "2723bdcf",
   "metadata": {},
   "outputs": [],
   "source": [
    "# 上述过程就是开运算的顺序\n",
    "# morphologyEx(src, op, kernel[, dst[, anchor[, iterations[, borderType[, borderValue]]]]]) -> dst\n",
    "# 这个函数提供了许多形态学操作\n",
    "'''\n",
    "MORPH_ERODE = 0：腐蚀处理\n",
    "\n",
    "MORPH_DILATE = 1：膨胀处理\n",
    "\n",
    "MORPH_OPEN = 2：开运算处理\n",
    "\n",
    "MORPH_CLOSE = 3：闭运算处理\n",
    "\n",
    "MORPH_GRADIENT = 4：形态学梯度\n",
    "\n",
    "MORPH_TOPHAT = 5：顶帽变换\n",
    "\n",
    "MORPH_BLACKHAT = 6：黑帽变换\n",
    "\n",
    "MORPH_HITMISS = 7 ：击中-击不中变换\n",
    "'''\n",
    "\n",
    "\n",
    "img = cv2.imread('2023-09-17_163836.png',0)\n",
    "kernel = cv2.getStructuringElement(cv2.MORPH_RECT,(3,3))\n",
    "\n",
    "show_img = cv2.morphologyEx(img,cv2.MORPH_OPEN,kernel)\n",
    "\n",
    "cv2.imshow('ex',show_img)\n",
    "cv2.waitKey(0)\n",
    "cv2.destroyAllWindows()"
   ]
  },
  {
   "cell_type": "code",
   "execution_count": 41,
   "id": "555354bd",
   "metadata": {},
   "outputs": [],
   "source": [
    "# 闭运算 先膨胀再腐蚀 闭运算得到的是把白色主体内部的黑色噪声去除\n",
    "# cv2.MORPH_CLOSE"
   ]
  },
  {
   "cell_type": "code",
   "execution_count": 45,
   "id": "0a11de91",
   "metadata": {},
   "outputs": [],
   "source": [
    "# 原图-腐蚀后的图 得到 腐蚀去掉的部分-->形态学梯度(一些边缘) 有直接的接口\n",
    "# cv2.MORPH_GRADIENT\n",
    "img = cv2.imread('2023-09-17_163836.png',0)\n",
    "kernel = cv2.getStructuringElement(cv2.MORPH_RECT,(3,3))\n",
    "\n",
    "show_img = cv2.morphologyEx(img,cv2.MORPH_GRADIENT,kernel)\n",
    "\n",
    "cv2.imshow('ex',show_img)\n",
    "cv2.waitKey(0)\n",
    "cv2.destroyAllWindows()"
   ]
  },
  {
   "cell_type": "code",
   "execution_count": 44,
   "id": "6321fe20",
   "metadata": {},
   "outputs": [],
   "source": [
    "# 白帽操作 顶帽操作  原图-开运算结果 留下的是白色的噪声\n",
    "img = cv2.imread('2023-09-17_163836.png',0)\n",
    "kernel = cv2.getStructuringElement(cv2.MORPH_RECT,(3,3))\n",
    "\n",
    "show_img = cv2.morphologyEx(img,cv2.MORPH_TOPHAT,kernel)\n",
    "\n",
    "cv2.imshow('ex',show_img)\n",
    "cv2.waitKey(0)\n",
    "cv2.destroyAllWindows()"
   ]
  },
  {
   "cell_type": "code",
   "execution_count": 46,
   "id": "28a5f5ff",
   "metadata": {},
   "outputs": [],
   "source": [
    "# 黑帽操作 原图-闭运算结果 留下的是白色主体中的黑色噪声的位置变白的图\n",
    "img = cv2.imread('2023-09-17_163836.png',0)\n",
    "kernel = cv2.getStructuringElement(cv2.MORPH_RECT,(3,3))\n",
    "\n",
    "show_img = cv2.morphologyEx(img,cv2.MORPH_BLACKHAT,kernel)\n",
    "\n",
    "cv2.imshow('ex',show_img)\n",
    "cv2.waitKey(0)\n",
    "cv2.destroyAllWindows()"
   ]
  },
  {
   "cell_type": "code",
   "execution_count": null,
   "id": "4da1ed05",
   "metadata": {},
   "outputs": [],
   "source": []
  }
 ],
 "metadata": {
  "kernelspec": {
   "display_name": "yolo7_pytorch",
   "language": "python",
   "name": "yolo7_pytorch"
  },
  "language_info": {
   "codemirror_mode": {
    "name": "ipython",
    "version": 3
   },
   "file_extension": ".py",
   "mimetype": "text/x-python",
   "name": "python",
   "nbconvert_exporter": "python",
   "pygments_lexer": "ipython3",
   "version": "3.10.9"
  }
 },
 "nbformat": 4,
 "nbformat_minor": 5
}