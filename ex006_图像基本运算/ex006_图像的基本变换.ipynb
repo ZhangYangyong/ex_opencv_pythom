{
 "cells": [
  {
   "cell_type": "code",
   "execution_count": 1,
   "id": "fafef20f",
   "metadata": {},
   "outputs": [],
   "source": [
    "import cv2\n",
    "import numpy as np\n",
    "import matplotlib.pyplot as plt"
   ]
  },
  {
   "cell_type": "code",
   "execution_count": 2,
   "id": "dbf254ea",
   "metadata": {},
   "outputs": [],
   "source": [
    "img = cv2.imread('../data/linna.jpg')\n",
    "# plt.imshow(cv2.cvtColor(img,cv2.COLOR_BGR2RGB))"
   ]
  },
  {
   "cell_type": "markdown",
   "id": "285eb98e",
   "metadata": {},
   "source": [
    "# 缩放"
   ]
  },
  {
   "cell_type": "code",
   "execution_count": 3,
   "id": "83348f48",
   "metadata": {},
   "outputs": [
    {
     "data": {
      "text/plain": [
       "'\\ncv2.INTER_NEAREST 邻近插值 速度快 效果差\\ncv2.INTER_LINEAR  双线性插值 使用原图的4个点进行计算 默认\\ncv2.INTER_CUBIC   三次插值 使用原图的16个点进行计算\\ncv2.INTER_AREA  区域插值 效果最好,时间长\\n'"
      ]
     },
     "execution_count": 3,
     "metadata": {},
     "output_type": "execute_result"
    }
   ],
   "source": [
    "#放大缩小 resize(src, dsize[, dst[, fx[, fy[, interpolation]]]]) -> dst\n",
    "#  interpolation 插值算法 \n",
    "'''\n",
    "cv2.INTER_NEAREST 邻近插值 速度快 效果差\n",
    "cv2.INTER_LINEAR  双线性插值 使用原图的4个点进行计算 默认\n",
    "cv2.INTER_CUBIC   三次插值 使用原图的16个点进行计算\n",
    "cv2.INTER_AREA  区域插值 效果最好,时间长\n",
    "'''\n"
   ]
  },
  {
   "cell_type": "code",
   "execution_count": 4,
   "id": "3dd9f5f0",
   "metadata": {},
   "outputs": [
    {
     "data": {
      "text/plain": [
       "(512, 512, 3)"
      ]
     },
     "execution_count": 4,
     "metadata": {},
     "output_type": "execute_result"
    }
   ],
   "source": [
    "img.shape"
   ]
  },
  {
   "cell_type": "code",
   "execution_count": 5,
   "id": "f702fd11",
   "metadata": {},
   "outputs": [],
   "source": [
    "# 最简单的使用\n",
    "new_img = cv2.resize(img,(640,320))\n",
    "# plt.imshow(cv2.cvtColor(new_img,cv2.COLOR_BGR2RGB))"
   ]
  },
  {
   "cell_type": "code",
   "execution_count": 6,
   "id": "4160b7a4",
   "metadata": {},
   "outputs": [],
   "source": [
    "# 最简单的使用\n",
    "new_img = cv2.resize(img,(640,320),fx=1,fy=1) # 当指定 dsize fx,fy 无效\n",
    "# plt.imshow(cv2.cvtColor(new_img,cv2.COLOR_BGR2RGB))"
   ]
  },
  {
   "cell_type": "code",
   "execution_count": 7,
   "id": "ace48956",
   "metadata": {},
   "outputs": [],
   "source": [
    "new_img = cv2.resize(img,(0,0),fx=0.5,fy=0.5) # 当指定 dsize =(0,0)或者 None 时 fx,fy 才有用\n",
    "# new_img = cv2.resize(img,None,fx=1,fy=1) \n",
    "# plt.imshow(cv2.cvtColor(new_img,cv2.COLOR_BGR2RGB))"
   ]
  },
  {
   "cell_type": "markdown",
   "id": "c1e24d3c",
   "metadata": {},
   "source": [
    "# 旋转,翻转"
   ]
  },
  {
   "cell_type": "code",
   "execution_count": 8,
   "id": "af198b88",
   "metadata": {},
   "outputs": [],
   "source": [
    "# 翻转 flip(src, flipCode[, dst]) -> dst\n",
    "# 0 上下 翻转  1 左右翻转 -1 中心翻转\n",
    "new_img = cv2.flip(img,0) \n",
    "# plt.imshow(cv2.cvtColor(new_img,cv2.COLOR_BGR2RGB))"
   ]
  },
  {
   "cell_type": "code",
   "execution_count": 9,
   "id": "4fa7a76d",
   "metadata": {},
   "outputs": [],
   "source": [
    "# 用numpy数组操作也可以实现翻转\n",
    "new_img = img[::-1,:,:] # 上下\n",
    "new_img = img[::,::-1,:] # 左右\n",
    "new_img = img[::-1,::-1,:] # 中心\n",
    "# plt.imshow(cv2.cvtColor(new_img,cv2.COLOR_BGR2RGB))"
   ]
  },
  {
   "cell_type": "markdown",
   "id": "0ee74109",
   "metadata": {},
   "source": [
    "# 旋转rotate\n"
   ]
  },
  {
   "cell_type": "code",
   "execution_count": 10,
   "id": "5ecb251f",
   "metadata": {},
   "outputs": [],
   "source": [
    "# rotate(src, rotateCode[, dst]) -> dst 支持的角度有限 90 180 270 \n",
    "'''\n",
    ".   *   Rotate by 90 degrees clockwise (rotateCode = ROTATE_90_CLOCKWISE).\n",
    ".   *   Rotate by 180 degrees clockwise (rotateCode = ROTATE_180).\n",
    ".   *   Rotate by 270 degrees clockwise (rotateCode = ROTATE_90_COUNTERCLOCKWISE)\n",
    "'''\n",
    "new_img = cv2.rotate(img,cv2.ROTATE_90_CLOCKWISE)\n",
    "# plt.imshow(cv2.cvtColor(new_img,cv2.COLOR_BGR2RGB))"
   ]
  },
  {
   "cell_type": "code",
   "execution_count": null,
   "id": "27711adf",
   "metadata": {},
   "outputs": [],
   "source": []
  }
 ],
 "metadata": {
  "kernelspec": {
   "display_name": "yolo7_pytorch",
   "language": "python",
   "name": "yolo7_pytorch"
  },
  "language_info": {
   "codemirror_mode": {
    "name": "ipython",
    "version": 3
   },
   "file_extension": ".py",
   "mimetype": "text/x-python",
   "name": "python",
   "nbconvert_exporter": "python",
   "pygments_lexer": "ipython3",
   "version": "3.10.9"
  }
 },
 "nbformat": 4,
 "nbformat_minor": 5
}