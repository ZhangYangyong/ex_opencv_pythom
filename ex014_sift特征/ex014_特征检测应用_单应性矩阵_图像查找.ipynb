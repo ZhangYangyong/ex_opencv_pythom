{
 "cells": [
  {
   "cell_type": "code",
   "execution_count": 1,
   "id": "4d1fa01b",
   "metadata": {},
   "outputs": [],
   "source": [
    "import cv2\n",
    "import numpy as np"
   ]
  },
  {
   "cell_type": "code",
   "execution_count": 2,
   "id": "11559376",
   "metadata": {},
   "outputs": [],
   "source": [
    "# 图像查找,在train_img(大图)中查找query(某个物体的图片,小图)"
   ]
  },
  {
   "cell_type": "code",
   "execution_count": 4,
   "id": "37c2dae6",
   "metadata": {},
   "outputs": [],
   "source": [
    "'''\n",
    "关于图像变换矩阵的一些api\n",
    "estimateRigidTransform()：计算多个二维点对或者图像之间的最优仿射变换矩阵 （2行x3列），H可以是部分自由度，比如各向一致的切变。\n",
    "\n",
    "getAffineTransform()：计算3个二维点对之间的仿射变换矩阵H（2行x3列），自由度为6.\n",
    "\n",
    "warpAffine()：对输入图像进行仿射变换\n",
    "\n",
    "findHomography： 计算多个二维点对之间的最优单映射变换矩阵 H（3行x3列） ，使用最小均方误差或者RANSAC方法 。\n",
    "\n",
    "getPerspectiveTransform()：计算4个二维点对之间的透射变换矩阵 H（3行x3列）\n",
    "\n",
    "warpPerspective()： 对输入图像进行透射变换\n",
    "\n",
    "perspectiveTransform()：对二维或者三维矢量进行透射变换，也就是对输入二维坐标点或者三维坐标点进行投射变换。\n",
    "\n",
    "estimateAffine3D：计算多个三维点对之间的最优三维仿射变换矩阵H （3行x4列）\n",
    "\n",
    "transform()：对输入的N维矢量进行变换，可用于进行仿射变换、图像色彩变换.\n",
    "\n",
    "findFundamentalMat：计算多个点对之间的基矩阵H。\n",
    "'''\n",
    "pass"
   ]
  },
  {
   "cell_type": "code",
   "execution_count": 5,
   "id": "6bb329da",
   "metadata": {},
   "outputs": [],
   "source": [
    "# 计算单应性矩阵的api findHomography 详细说明\n",
    "\n",
    "# findHomography(srcPoints, dstPoints\n",
    "#               [, method[, ransacReprojThreshold[, mask[, maxIters[, confidence]]]]]) -> retval, mask\n",
    "\n",
    "# method 0 -使用所有点的常规方法\n",
    "#        RANSAC random sample consensus 随机抽样一致性(常用)\n",
    "#        LMEDS 最小中值鲁棒用法 \n",
    "#        ...\n",
    "\n",
    "# ransacReprojThreshold 将点对视为内点的最大允许重投影错误阈值(单位是像素 一般1-10 常用5) 适用于 RANSAC 和 RHO方法\n",
    "\n",
    "# mask 输出掩码矩阵 通常由 RANSAC 或者 LMEDS 设置, 注意 输入没有设置仅针对输出\n",
    "\n",
    "# maxIters  RANSAC 迭代次数 默认2000\n",
    "# confidence 置信度阈值(0-1)"
   ]
  },
  {
   "cell_type": "code",
   "execution_count": 6,
   "id": "258e12d8",
   "metadata": {},
   "outputs": [],
   "source": [
    "# 读取两张示例用的图片,并对要查找的img做一些变形处理\n",
    "train_img = cv2.imread('../data/R-C.jpg')\n",
    "train_img = cv2.resize(train_img,None,fx =0.5,fy=0.5)\n",
    "train_img_gray = cv2.cvtColor(train_img,cv2.COLOR_BGR2GRAY)\n",
    "\n",
    "querry_img = cv2.imread('../data/R-C-3.png')\n",
    "querry_img_gray = cv2.cvtColor(querry_img,cv2.COLOR_BGR2GRAY)\n"
   ]
  },
  {
   "cell_type": "markdown",
   "id": "28799516",
   "metadata": {},
   "source": [
    "![image.png](004.png)\n",
    "\n",
    "![image-3.png](005.png)"
   ]
  },
  {
   "cell_type": "code",
   "execution_count": 7,
   "id": "55b68410",
   "metadata": {},
   "outputs": [
    {
     "name": "stdout",
     "output_type": "stream",
     "text": [
      "[[ 1.04902778e+00 -8.33333333e-02  5.00000000e+01]\n",
      " [-5.20833333e-02  9.22222222e-01  5.00000000e+01]\n",
      " [ 1.05324074e-04  9.25925926e-06  1.00000000e+00]]\n"
     ]
    }
   ],
   "source": [
    "# 对大图进行透视变换\n",
    "\n",
    "# 获取变换矩阵 getPerspectiveTransform(src, dst[, solveMethod]) -> retval\n",
    "src = np.float32([[0,0],[960,0],[0,600],[960,600]])\n",
    "dst = np.float32([[50,50],[960,0],[0,600],[910,500]])\n",
    "M = cv2.getPerspectiveTransform(src,dst)\n",
    "print(M)\n",
    "\n",
    "# 应用透视变换\n",
    "train_img_gray = cv2.warpPerspective(train_img_gray,M,(960,600))\n",
    "train_img =  cv2.warpPerspective(train_img,M,(960,600))\n",
    "\n",
    "# 现在两张图像如下\n",
    "outImg =cv2.drawMatches(querry_img,None,train_img,None,None,None)\n",
    "cv2.imshow('img',outImg)\n",
    "cv2.waitKey(0)\n",
    "cv2.destroyAllWindows()"
   ]
  },
  {
   "cell_type": "markdown",
   "id": "2f2b56a8",
   "metadata": {},
   "source": [
    "![image-2.png](006.png)"
   ]
  },
  {
   "cell_type": "code",
   "execution_count": 8,
   "id": "2854f360",
   "metadata": {},
   "outputs": [],
   "source": [
    "# 创建检测特征对象\n",
    "sift = cv2.xfeatures2d.SIFT_create()\n",
    "\n",
    "# 检测特征\n",
    "train_kp,train_des = sift.detectAndCompute(train_img_gray,None)\n",
    "querry_kp,querry_des = sift.detectAndCompute(querry_img_gray,None)\n",
    "\n",
    "# 进行匹配\n",
    "bf = cv2.BFMatcher(cv2.NORM_L1,False)\n",
    "matches = bf.match(querry_des,train_des)\n",
    "outImg =cv2.drawMatches(querry_img,querry_kp,train_img,train_kp,matches,None)\n",
    "cv2.imshow('img',outImg)\n",
    "cv2.waitKey(0)\n",
    "cv2.destroyAllWindows()"
   ]
  },
  {
   "cell_type": "markdown",
   "id": "400823c8",
   "metadata": {},
   "source": [
    "![image.png](007.png)"
   ]
  },
  {
   "cell_type": "code",
   "execution_count": 9,
   "id": "c96f890f",
   "metadata": {},
   "outputs": [],
   "source": [
    "# 选择匹配距离前50%的\n",
    "distance_list = [m.distance for m in matches]\n",
    "idx = np.argsort(np.array(distance_list))\n",
    "good_idx = idx[0:int(0.5*len(distance_list))]\n",
    "# print(good_idx)\n",
    "good_matches = []\n",
    "for i in good_idx:\n",
    "    good_matches.append(matches[i])\n",
    "\n",
    "outImg =cv2.drawMatches(querry_img,querry_kp,train_img,train_kp,good_matches,None)\n",
    "cv2.imshow('img',outImg)\n",
    "cv2.waitKey(0)\n",
    "cv2.destroyAllWindows()\n",
    "# 可以看到,有些错误,但主体是正确的"
   ]
  },
  {
   "cell_type": "markdown",
   "id": "e49c92a6",
   "metadata": {},
   "source": [
    "![image.png](008.png)"
   ]
  },
  {
   "cell_type": "code",
   "execution_count": 10,
   "id": "654dbf38",
   "metadata": {},
   "outputs": [
    {
     "name": "stdout",
     "output_type": "stream",
     "text": [
      "[[ 9.60616454e-01 -6.16994015e-02  2.37441826e+02]\n",
      " [-1.33774447e-01  9.20558700e-01  4.37164258e+02]\n",
      " [-8.65806530e-05  7.47751014e-05  1.00000000e+00]]\n",
      "(1, 4, 2)\n",
      "[[[237.44183 437.16425]\n",
      "  [225.5782  569.7357 ]\n",
      "  [337.15643 560.1225 ]\n",
      "  [350.41074 426.11984]]] \n",
      " (1, 4, 2)\n"
     ]
    }
   ],
   "source": [
    "# 计算单应性矩阵最少要求4个点(透射变换矩阵相当于是特例正好4个点)\n",
    "if len(good_matches)>=4:\n",
    "    train_point = np.float32([train_kp[m.trainIdx].pt for m in good_matches]).reshape(-1,1,2)\n",
    "    querry_point = np.float32([querry_kp[m.queryIdx].pt for m in good_matches]).reshape(-1,1,2)\n",
    "    \n",
    "    # 根据匹配的点计算单应性矩阵\n",
    "    H,_= cv2.findHomography(querry_point,train_point,cv2.RANSAC,5)\n",
    "    '''\n",
    "    findHomography(srcPoints, dstPoints\n",
    "    [, method[, ransacReprojThreshold[, mask[, maxIters[, confidence]]]]]) -> retval, mask\n",
    "    '''\n",
    "    print(H)\n",
    "    # 通过单应性矩阵计算小图上的点在大图上的位置,这里用的就是小图的4个边界点\n",
    "    h,w,_ = querry_img.shape\n",
    "    p = np.float32([[[0,0],[0,h-1],[w-1,h-1],[w-1,0]]]) # 小图的四个边界点(左上,左下,右下,右上) 1*n*2 格式\n",
    "    print(p.shape) # (1, 4, 2)\n",
    "    #cv2.warpPerspective 注意不是使用这个接口,这个接口是用来对图像进行变换,需要的是变换后的坐标\n",
    "    new_p = cv2.perspectiveTransform(p,H)\n",
    "    print(new_p,'\\n',new_p.shape) #  (1, 4, 2)\n",
    "    \n",
    "    # 在大图中train_img 把这四个点的多边形绘制出来\n",
    "    cv2.polylines(train_img,[np.int64(new_p)],isClosed=True,color = (0,0,255),thickness=2)\n",
    "#     cv2.imshow('ex',train_img)\n",
    "#     cv2.waitKey(0)\n",
    "#     cv2.destroyAllWindows()\n",
    "    outImg =cv2.drawMatches(querry_img,querry_kp,train_img,train_kp,good_matches,None)\n",
    "    cv2.imshow('img',outImg)\n",
    "    cv2.waitKey(0)\n",
    "    cv2.destroyAllWindows()\n",
    "    \n",
    "else:\n",
    "    print('没有足够的特征点匹配关系')"
   ]
  },
  {
   "cell_type": "markdown",
   "id": "e0e52469",
   "metadata": {},
   "source": [
    "![image.png](009.png)"
   ]
  },
  {
   "cell_type": "code",
   "execution_count": null,
   "id": "259a5967",
   "metadata": {},
   "outputs": [],
   "source": []
  }
 ],
 "metadata": {
  "kernelspec": {
   "display_name": "opencv3_4_1_14",
   "language": "python",
   "name": "opencv3_4_1_14"
  },
  "language_info": {
   "codemirror_mode": {
    "name": "ipython",
    "version": 3
   },
   "file_extension": ".py",
   "mimetype": "text/x-python",
   "name": "python",
   "nbconvert_exporter": "python",
   "pygments_lexer": "ipython3",
   "version": "3.6.2"
  }
 },
 "nbformat": 4,
 "nbformat_minor": 5
}
