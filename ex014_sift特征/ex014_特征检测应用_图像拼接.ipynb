{
 "cells": [
  {
   "cell_type": "code",
   "execution_count": 1,
   "id": "5b652ceb",
   "metadata": {},
   "outputs": [],
   "source": [
    "# 图像拼接思路\n",
    "'''\n",
    "1.读图片\n",
    "2.灰度化\n",
    "3.计算各自的特征点和描述子\n",
    "4.匹配特征\n",
    "5.根据匹配特征计算单应性矩阵\n",
    "6.对其中一张图片进行透视变换\n",
    "7创建大图放入两张图片\n",
    "'''\n",
    "pass"
   ]
  },
  {
   "cell_type": "code",
   "execution_count": 13,
   "id": "769964ee",
   "metadata": {},
   "outputs": [
    {
     "name": "stdout",
     "output_type": "stream",
     "text": [
      "(2128, 4608) (2128, 4608)\n"
     ]
    },
    {
     "data": {
      "text/plain": [
       "array([[[-3450.3704  ,  -778.14355 ]],\n",
       "\n",
       "       [[-3234.42    ,  2581.506   ]],\n",
       "\n",
       "       [[ 2843.5527  ,  1780.1897  ]],\n",
       "\n",
       "       [[ 2840.185   ,   -20.043798]]], dtype=float32)"
      ]
     },
     "execution_count": 13,
     "metadata": {},
     "output_type": "execute_result"
    }
   ],
   "source": [
    "import cv2\n",
    "import numpy as np\n",
    "\n",
    "img1= cv2.imread('../data/img01.jpeg')\n",
    "# img1 = cv2.resize(img1,None,fx =0.2,fy =0.2)\n",
    "gray1 = cv2.cvtColor(img1,cv2.COLOR_BGR2GRAY)\n",
    "img2= cv2.imread('../data/img02.jpeg')\n",
    "# img2 = cv2.resize(img2,None,fx =0.2,fy =0.2)\n",
    "gray2 = cv2.cvtColor(img2,cv2.COLOR_BGR2GRAY)\n",
    "print(gray1.shape,gray2.shape) # 最好两张图像弄成一样大\n",
    "# 检测特征\n",
    "sift = cv2.xfeatures2d.SIFT_create() #SIFT_create([, nfeatures[, nOctaveLayers[, contrastThreshold[, edgeThreshold[, sigma]]]]]) -> retval\n",
    "\n",
    "kp1,des1 = sift.detectAndCompute(gray1,None)\n",
    "kp2,des2 = sift.detectAndCompute(gray2,None)\n",
    "\n",
    "bf = cv2.BFMatcher()\n",
    "matches = bf.knnMatch(des1,des2,k=2)\n",
    "\n",
    "# 筛选匹配对\n",
    "good_matches = []\n",
    "for m, n in matches:\n",
    "    if m.distance < 0.7* n.distance:\n",
    "        good_matches.append(m)\n",
    "        \n",
    "# out_img = cv2.drawMatches(img1, kp1, img2, kp2, good_matches, None)\n",
    "# cv2.imwrite('feature_pairing_diagram.jpg',out_img)\n",
    "if len(good_matches)>=4:\n",
    "    src_point = np.float32([kp1[m.queryIdx].pt for m in good_matches]).reshape(-1,1,2) # 这里要注意关系\n",
    "    dst_point = np.float32([kp2[m.trainIdx].pt for m in good_matches]).reshape(-1,1,2)\n",
    "    # 计算单应性矩阵\n",
    "    H, _ =cv2.findHomography(src_point,dst_point,cv2.RANSAC,5) # 注意这个变换视角是左图对右图的\n",
    "else:\n",
    "    print('没有足够的特征点')\n",
    "\n",
    "    \n",
    "# 开始进行变换\n",
    "h1,w1 = img1.shape[:2]\n",
    "h2,w2 = img2.shape[:2]\n",
    "\n",
    "img1_pts = np.float32([[0,0],[0,h1-1],[w1-1,h1-1],[w1-1,0]]).reshape(-1,1,2) # 获取原始图的四个边界点\n",
    "img2_pts = np.float32([[0,0],[0,h2-1],[w2-1,h2-1],[w2-1,0]]).reshape(-1,1,2)\n",
    "\n",
    "# 根据H矩阵变换img1的四个角点\n",
    "img1_transform_pts = cv2.perspectiveTransform(img1_pts,H)\n",
    "img1_transform_pts"
   ]
  },
  {
   "cell_type": "markdown",
   "id": "99495f87",
   "metadata": {},
   "source": [
    "![img](feature_pairing_diagram.jpg)"
   ]
  },
  {
   "cell_type": "code",
   "execution_count": 21,
   "id": "a1b8d9a9",
   "metadata": {},
   "outputs": [],
   "source": [
    "aaa = cv2.warpPerspective(img1,H,(4608,2128))\n",
    "aaa =cv2.resize(aaa,(0,0),fx=0.1,fy=0.1)\n",
    "cv2.imshow('ex',aaa)\n",
    "cv2.waitKey(0)\n",
    "cv2.destroyAllWindows()\n",
    "# 尝试观察一下变换后的图像\n",
    "# 结合上面的输出,可以知道,img1变换完之后,画面中很多区域在显示窗口之外了\n",
    "# 所以要把显示在画面窗口之外的部分平移回来"
   ]
  },
  {
   "attachments": {},
   "cell_type": "markdown",
   "id": "21841091",
   "metadata": {},
   "source": [
    "![image.png](010.png)"
   ]
  },
  {
   "cell_type": "code",
   "execution_count": 35,
   "id": "5b1dcfef",
   "metadata": {},
   "outputs": [
    {
     "name": "stdout",
     "output_type": "stream",
     "text": [
      "[[[    0.           0.      ]]\n",
      "\n",
      " [[    0.        2127.      ]]\n",
      "\n",
      " [[ 4607.        2127.      ]]\n",
      "\n",
      " [[ 4607.           0.      ]]\n",
      "\n",
      " [[-3450.3704    -778.14355 ]]\n",
      "\n",
      " [[-3234.42      2581.506   ]]\n",
      "\n",
      " [[ 2843.5527    1780.1897  ]]\n",
      "\n",
      " [[ 2840.185      -20.043798]]]\n",
      "-3451 -779\n"
     ]
    }
   ],
   "source": [
    "result_pts = np.concatenate((img2_pts,img1_transform_pts),axis =0) # 由于要拼接整个图,所以img2(右图也进行平移)\n",
    "print(result_pts)\n",
    "\n",
    "# 获取要平移的值\n",
    "[[x_min,y_min]] = np.int32(result_pts.min(axis=0,)-1) # 平移值需要是整数 (-1 是确保完全平移值能大于负数的绝对值)\n",
    "print(x_min,y_min)"
   ]
  },
  {
   "cell_type": "code",
   "execution_count": 37,
   "id": "5c129b61",
   "metadata": {},
   "outputs": [
    {
     "name": "stdout",
     "output_type": "stream",
     "text": [
      "4608 2582\n"
     ]
    }
   ],
   "source": [
    "# 获取拼接之后的图需要多大\n",
    "[[x_max,y_max]] = np.int32(result_pts.max(axis=0,)+1)\n",
    "print(x_max,y_max)"
   ]
  },
  {
   "cell_type": "code",
   "execution_count": 52,
   "id": "72e28e7a",
   "metadata": {},
   "outputs": [],
   "source": [
    "# 构造平移矩阵\n",
    "move_matrix = np.array([[1,0,-x_min],[0,1,-y_min],[0,0,1]])\n",
    "\n",
    "# 对img1进行平移变换及透视变换\n",
    "M = move_matrix.dot(H) # 先平移再透视变换\n",
    "# M = H.dot(move_matrix)\n",
    "res_img = cv2.warpPerspective(img1,M,(x_max-x_min,y_max-y_min)) \n",
    "# (x_max-x_min,y_max-y_min) 这里是求最后的窗口应该是多大\n",
    "bbb =cv2.resize(res_img,(0,0),fx=0.1,fy=0.1)\n",
    "cv2.imshow('ex',bbb)\n",
    "cv2.waitKey(0)\n",
    "cv2.destroyAllWindows()\n"
   ]
  },
  {
   "attachments": {},
   "cell_type": "markdown",
   "id": "c5b8ad4f",
   "metadata": {},
   "source": [
    "![image.png](011.png)"
   ]
  },
  {
   "cell_type": "code",
   "execution_count": 61,
   "id": "bdff67ec",
   "metadata": {},
   "outputs": [],
   "source": [
    "# 把img2放进来\n",
    "res_img[-y_min:-y_min+h2,-x_min:-x_min+w2] = img2\n",
    "\n",
    "bbb =cv2.resize(res_img,(0,0),fx=0.2,fy=0.2)\n",
    "cv2.imshow('ex',bbb)\n",
    "cv2.waitKey(0)\n",
    "cv2.destroyAllWindows()\n"
   ]
  },
  {
   "attachments": {},
   "cell_type": "markdown",
   "id": "6e159da6",
   "metadata": {},
   "source": [
    "![image.png](012.png)"
   ]
  },
  {
   "cell_type": "code",
   "execution_count": null,
   "id": "f2a60522",
   "metadata": {},
   "outputs": [],
   "source": []
  }
 ],
 "metadata": {
  "kernelspec": {
   "display_name": "opencv3_4_1_14",
   "language": "python",
   "name": "opencv3_4_1_14"
  },
  "language_info": {
   "codemirror_mode": {
    "name": "ipython",
    "version": 3
   },
   "file_extension": ".py",
   "mimetype": "text/x-python",
   "name": "python",
   "nbconvert_exporter": "python",
   "pygments_lexer": "ipython3",
   "version": "3.6.2"
  }
 },
 "nbformat": 4,
 "nbformat_minor": 5
}
