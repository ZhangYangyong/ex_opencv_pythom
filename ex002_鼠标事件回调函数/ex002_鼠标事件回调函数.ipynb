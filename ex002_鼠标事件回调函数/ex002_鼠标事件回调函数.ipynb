{
 "cells": [
  {
   "cell_type": "code",
   "execution_count": 1,
   "id": "4f43821c",
   "metadata": {},
   "outputs": [],
   "source": [
    "import cv2\n",
    "import matplotlib.pyplot as plt\n",
    "import numpy as np\n",
    "def cv_imshow(name,img):\n",
    "    # import cv2\n",
    "    cv2.imshow(name,img) \n",
    "    while True:\n",
    "        key = cv2.waitKey(0)\n",
    "        if key == ord('q'):\n",
    "            cv2.destroyAllWindows()\n",
    "            break"
   ]
  },
  {
   "cell_type": "code",
   "execution_count": 2,
   "id": "7a849f64",
   "metadata": {},
   "outputs": [],
   "source": [
    "# https://blog.csdn.net/qq_40344307/article/details/90107157 鼠标事件"
   ]
  },
  {
   "cell_type": "code",
   "execution_count": 4,
   "id": "ab3087a4",
   "metadata": {},
   "outputs": [],
   "source": [
    "# api\n",
    "# cv2.setMouseCallback() # setMouseCallback(windowName, onMouse [, param]) -> None\n"
   ]
  },
  {
   "cell_type": "code",
   "execution_count": 6,
   "id": "51b2340a",
   "metadata": {},
   "outputs": [],
   "source": [
    "img = cv2.imread('./linna.jpg')\n",
    "cv_imshow('ex',img)"
   ]
  },
  {
   "cell_type": "code",
   "execution_count": 7,
   "id": "8b244ecf",
   "metadata": {},
   "outputs": [
    {
     "data": {
      "text/plain": [
       "'\\nEVENT_FLAG_LBUTTON 1         #左鍵拖曳  \\nEVENT_FLAG_RBUTTON 2         #右鍵拖曳  \\nEVENT_FLAG_MBUTTON 4         #中鍵拖曳  \\nEVENT_FLAG_CTRLKEY 8         #(8~15)按Ctrl不放事件  \\nEVENT_FLAG_SHIFTKEY 16       #(16~31)按Shift不放事件  \\nEVENT_FLAG_ALTKEY 32         #(32~39)按Alt不放事件  \\n\\nEVENT_MOUSEMOVE 0            #滑动\\nEVENT_LBUTTONDOWN 1          #左键点击\\nEVENT_RBUTTONDOWN 2          #右键点击\\nEVENT_MBUTTONDOWN 3          #中键点击\\nEVENT_LBUTTONUP 4            #左键放开\\nEVENT_RBUTTONUP 5            #右键放开\\nEVENT_MBUTTONUP 6            #中键放开\\nEVENT_LBUTTONDBLCLK 7        #左键双击\\nEVENT_RBUTTONDBLCLK 8        #右键双击\\nEVENT_MBUTTONDBLCLK 9        #中键双击\\n\\n'"
      ]
     },
     "execution_count": 7,
     "metadata": {},
     "output_type": "execute_result"
    }
   ],
   "source": [
    "'''\n",
    "EVENT_FLAG_LBUTTON 1         #左鍵拖曳  \n",
    "EVENT_FLAG_RBUTTON 2         #右鍵拖曳  \n",
    "EVENT_FLAG_MBUTTON 4         #中鍵拖曳  \n",
    "EVENT_FLAG_CTRLKEY 8         #(8~15)按Ctrl不放事件  \n",
    "EVENT_FLAG_SHIFTKEY 16       #(16~31)按Shift不放事件  \n",
    "EVENT_FLAG_ALTKEY 32         #(32~39)按Alt不放事件  \n",
    "\n",
    "EVENT_MOUSEMOVE 0            #滑动\n",
    "EVENT_LBUTTONDOWN 1          #左键点击\n",
    "EVENT_RBUTTONDOWN 2          #右键点击\n",
    "EVENT_MBUTTONDOWN 3          #中键点击\n",
    "EVENT_LBUTTONUP 4            #左键放开\n",
    "EVENT_RBUTTONUP 5            #右键放开\n",
    "EVENT_MBUTTONUP 6            #中键放开\n",
    "EVENT_LBUTTONDBLCLK 7        #左键双击\n",
    "EVENT_RBUTTONDBLCLK 8        #右键双击\n",
    "EVENT_MBUTTONDBLCLK 9        #中键双击\n",
    "\n",
    "'''"
   ]
  },
  {
   "cell_type": "code",
   "execution_count": 8,
   "id": "f5f3d021",
   "metadata": {},
   "outputs": [],
   "source": [
    "# 首先定义鼠标事件函数\n",
    "# 函数名可以随便取,但是参数个数固定\n",
    "# event 事件, x,y 发生事件的鼠标坐标,flags 鼠标的组合按键(按下,或者ctrl键被按下),userdata 传入的用户参数\n",
    "def mouse_callback(event,x,y,flags,userdata):\n",
    "    print(event,x,y,flags,userdata)"
   ]
  },
  {
   "cell_type": "code",
   "execution_count": 10,
   "id": "d9c6eda8",
   "metadata": {},
   "outputs": [],
   "source": [
    "cv2.imshow('ex',img)\n",
    "cv2.setMouseCallback('ex',mouse_callback,'123')\n",
    "# 窗口名,指定的回填函数, 传入的其他自定义数据\n",
    "while True:\n",
    "        key = cv2.waitKey(0)\n",
    "        if key == ord('q'):\n",
    "            cv2.destroyAllWindows()\n",
    "            break"
   ]
  },
  {
   "cell_type": "code",
   "execution_count": 14,
   "id": "f6cb50b3",
   "metadata": {},
   "outputs": [],
   "source": [
    "# 上面那个打印信息太多了,写一个当左键被点击才输出的\n",
    "def mouse_callback(event,x,y,flags,userdata):\n",
    "    if event == cv2.EVENT_LBUTTONDOWN:\n",
    "        print(event,x,y,flags,userdata)\n",
    "        "
   ]
  },
  {
   "cell_type": "code",
   "execution_count": 16,
   "id": "4072c210",
   "metadata": {},
   "outputs": [
    {
     "name": "stdout",
     "output_type": "stream",
     "text": [
      "1 45 440 1 123\n",
      "1 465 58 1 123\n",
      "1 139 95 1 123\n",
      "1 369 126 1 123\n"
     ]
    }
   ],
   "source": [
    "cv2.imshow('ex',img)\n",
    "cv2.setMouseCallback('ex',mouse_callback,'123')\n",
    "# 窗口名,指定的回填函数, 传入的其他自定义数据\n",
    "while True:\n",
    "        key = cv2.waitKey(0)\n",
    "        if key == ord('q'):\n",
    "            cv2.destroyAllWindows()\n",
    "            break"
   ]
  },
  {
   "cell_type": "code",
   "execution_count": 17,
   "id": "c83368f2",
   "metadata": {},
   "outputs": [],
   "source": [
    "# TrackBar控件 滑块条\n",
    "# api \n",
    "# creatTracbar(trackbarname,winname,value,count,onChange) value bar条的默认值,count bar条的最大值,最小不能负数, onChange改变时调用的回调\n",
    "# getTrackbarPos(trackbarname,winname) 获取值"
   ]
  },
  {
   "cell_type": "code",
   "execution_count": 4,
   "id": "10c1bcc6",
   "metadata": {},
   "outputs": [],
   "source": [
    "# 创建一个调色板示例\n"
   ]
  },
  {
   "cell_type": "code",
   "execution_count": 10,
   "id": "d63f24d7",
   "metadata": {},
   "outputs": [],
   "source": [
    "# 定义一个回调函数\n",
    "def track_call(val):\n",
    "    # print(val)\n",
    "    pass\n",
    "    \n",
    "# 创建一个全黑的图片,并且建立窗口\n",
    "img = np.zeros((480,640,3),dtype=np.uint8)\n",
    "cv2.imshow('trackbar',img)\n",
    "# cv2.namedWindow('trackbar',cv2.WINDOW_NORMAL)\n",
    "# cv2.resizeWindow('trackbar',480,640)\n",
    "# 创建三个颜色调节块\n",
    "cv2.createTrackbar('B','trackbar',0,255,track_call)\n",
    "cv2.createTrackbar('G','trackbar',0,255,track_call)\n",
    "cv2.createTrackbar('R','trackbar',0,255,track_call)\n",
    "\n",
    "while True:\n",
    "    b =cv2.getTrackbarPos('B','trackbar')\n",
    "    g =cv2.getTrackbarPos('G','trackbar')\n",
    "    r =cv2.getTrackbarPos('R','trackbar')\n",
    "    img[:]=[b,g,r]\n",
    "    cv2.imshow('trackbar',img)\n",
    "    key = cv2.waitKey(1) # 这里不能设置为0 否则会一直等待键盘才进行更新\n",
    "    if key == ord('q'):\n",
    "        cv2.destroyAllWindows() \n",
    "        break\n",
    "           "
   ]
  },
  {
   "cell_type": "code",
   "execution_count": null,
   "id": "385db276",
   "metadata": {},
   "outputs": [],
   "source": []
  }
 ],
 "metadata": {
  "kernelspec": {
   "display_name": "yolo7_pytorch",
   "language": "python",
   "name": "yolo7_pytorch"
  },
  "language_info": {
   "codemirror_mode": {
    "name": "ipython",
    "version": 3
   },
   "file_extension": ".py",
   "mimetype": "text/x-python",
   "name": "python",
   "nbconvert_exporter": "python",
   "pygments_lexer": "ipython3",
   "version": "3.10.9"
  }
 },
 "nbformat": 4,
 "nbformat_minor": 5
}
