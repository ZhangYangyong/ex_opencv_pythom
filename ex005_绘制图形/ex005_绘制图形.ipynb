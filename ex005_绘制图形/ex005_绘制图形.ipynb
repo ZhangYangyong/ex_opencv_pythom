{
 "cells": [
  {
   "cell_type": "code",
   "execution_count": 1,
   "id": "90eaacf5",
   "metadata": {},
   "outputs": [],
   "source": [
    "import cv2\n",
    "import matplotlib.pyplot as plt\n",
    "import numpy as np\n",
    "def cv_imshow(name,img):\n",
    "    # import cv2\n",
    "    cv2.imshow(name,img) \n",
    "    while True:\n",
    "        key = cv2.waitKey(0)\n",
    "        if key == ord('q') or key == ord('\\033'):\n",
    "            cv2.destroyAllWindows()\n",
    "            break"
   ]
  },
  {
   "cell_type": "code",
   "execution_count": 2,
   "id": "9f26ef73",
   "metadata": {},
   "outputs": [],
   "source": [
    "# api 注意 这些api都会改变原图\n",
    "# 画线   line(img,pt1,pt2,color,thickness线宽,shift缩放比例) 点pt格式(x,y) 注意和np中的行列区分\n",
    "\n",
    "# 画矩形 rectangle(img, pt1, pt2, color[, thickness[, lineType[, shift]]]) -> img\n",
    "\n",
    "# 画圆   circle(img, center, radius, color[, thickness[, lineType[, shift]]]) -> img\n",
    "\n",
    "# 画椭圆 ellipse(img, center, axes(长宽的一半), angle, startAngle, endAngle, \n",
    "#                color[, thickness[, lineType[, shift]]]) -> img\n",
    "\n",
    "# 画多边形 polylines(img, pts(点集 坐标是数据类型int32及以上), \n",
    "#                    isClosed, color[, thickness[, lineType[, shift]]]) -> img\n",
    "\n",
    "# 画填充多边形 fillPoly(img, pts, color[, lineType[, shift[, offset]]]) -> img"
   ]
  },
  {
   "cell_type": "code",
   "execution_count": 18,
   "id": "fde5a0ee",
   "metadata": {},
   "outputs": [],
   "source": [
    "# 创建背景图\n",
    "# 画直线 line(img,pt1,pt2,color,thickness线宽,shift缩放比例) 点pt格式(x,y) 注意和np中的行列区分\n",
    "img = np.zeros((480,640,3),np.uint8)\n",
    "cv2.line(img,(100,50),(300,150),(0,0,255),1,16) # shift缩放比例 主要影响线条的锯齿状\n",
    "cv2.line(img,(150,100),(350,200),(0,0,255),1,1)\n",
    "cv_imshow('line',img)"
   ]
  },
  {
   "cell_type": "code",
   "execution_count": 19,
   "id": "848aa0d4",
   "metadata": {},
   "outputs": [],
   "source": [
    "# 画矩形  rectangle(img, pt1, pt2, color[, thickness[, lineType[, shift]]]) -> img\n",
    "img = np.zeros((480,640,3),np.uint8)\n",
    "cv2.rectangle(img,(100,50),(300,150),(0,0,255),1,16)\n",
    "cv_imshow('rectangle',img)"
   ]
  },
  {
   "cell_type": "code",
   "execution_count": 21,
   "id": "3a25d74f",
   "metadata": {},
   "outputs": [],
   "source": [
    "# 画圆 circle(img, center, radius, color[, thickness[, lineType[, shift]]]) -> img\n",
    "img = np.zeros((480,640,3),np.uint8)\n",
    "cv2.circle(img,(320,240),50,(0,255,0))\n",
    "cv_imshow('circle',img)"
   ]
  },
  {
   "cell_type": "code",
   "execution_count": 24,
   "id": "ec424856",
   "metadata": {},
   "outputs": [],
   "source": [
    "# 画椭圆ellipse(img, center, axes(长宽的一半), angle, startAngle, endAngle, \n",
    "#                color[, thickness[, lineType[, shift]]]) -> img 角度都是按逆时针算的\n",
    "img = np.zeros((480,640,3),np.uint8)\n",
    "cv2.ellipse(img,(320,240),(100,50),0,0,360,(255,0,0))\n",
    "cv2.ellipse(img,(320,240),(50,100),0,0,270,(0,0,255))\n",
    "cv_imshow('ellipse',img)"
   ]
  },
  {
   "cell_type": "code",
   "execution_count": 33,
   "id": "480e7d75",
   "metadata": {},
   "outputs": [
    {
     "name": "stdout",
     "output_type": "stream",
     "text": [
      "(1, 3, 2)\n"
     ]
    }
   ],
   "source": [
    "# 画多边形 polylines(img, pts(点集 坐标是数据类型int32及以上), \n",
    "#                    isClosed, color[, thickness[, lineType[, shift]]]) -> img\n",
    "img = np.zeros((480,640,3),np.uint8)\n",
    "pts = np.array([[(250,10),(150,100),(450,100)]])\n",
    "print(pts.shape) # 维度必须是1*n*2\n",
    "cv2.polylines(img,pts,True,(0,255,0))\n",
    "cv_imshow('polylines',img)"
   ]
  },
  {
   "cell_type": "code",
   "execution_count": 34,
   "id": "c13ade7a",
   "metadata": {},
   "outputs": [],
   "source": [
    "# 画填充多边形 fillPoly(img, pts, color[, lineType[, shift[, offset]]]) -> img\n",
    "img = np.zeros((480,640,3),np.uint8)\n",
    "pts = np.array([[(250,10),(150,100),(450,100)]])\n",
    "cv2.fillPoly(img,pts,(0,255,0))\n",
    "cv2.fillPoly(img,pts,(0,0,255),offset=(15,15)) # offset 偏移\n",
    "cv_imshow('fillPoly',img)"
   ]
  },
  {
   "cell_type": "code",
   "execution_count": 55,
   "id": "9282cbcb",
   "metadata": {},
   "outputs": [],
   "source": [
    "# 绘制文本 putText(img, text, org(左下角点坐标), fontFace, fontScale, color[, thickness\n",
    "#                 [, lineType[, bottomLeftOrigin]]]) -> img\n",
    "# 字体大小1时,文本高度约为16像素(一般情况下的默认字体)\n",
    "img = cv2.imread('../data/linna.jpg')\n",
    "cv2.putText(img,'Hello OpenCV',(0,100),cv2.FONT_HERSHEY_COMPLEX,2,(0,255,0)) # 字体不支持中文时会乱码\n",
    "cv_imshow('putText',img)\n"
   ]
  },
  {
   "cell_type": "code",
   "execution_count": 53,
   "id": "0c9fd584",
   "metadata": {},
   "outputs": [],
   "source": [
    "# 中文字体 opencv没有办法直接绘制中文,使用其他工具进行绘制\n",
    "# Pillow 包\n",
    "from PIL import ImageFont,ImageDraw,Image\n",
    "img = np.full((480,640,3),fill_value=255,dtype =np.uint8)\n",
    "\n",
    "# 导入字体文件,win自带 C:\\Windows\\Fonts\n",
    "font = ImageFont.truetype(r'C:\\Windows\\Fonts\\simkai.ttf',size=60)\n",
    "img_pil = Image.fromarray(img)\n",
    "draw = ImageDraw.Draw(img_pil) # 创建绘图对象\n",
    "draw.text((0,0),'你好',font=font,fill = (255,0,0,0)) # rgba # 坐标和opencv不同是左上角点\n",
    "# img_pil.show() # 这是红色\n",
    "# 转回nadarry格式\n",
    "img = np.array(img_pil) \n",
    "cv_imshow('text',img) # 这是蓝色"
   ]
  },
  {
   "cell_type": "code",
   "execution_count": 56,
   "id": "4cd6e023",
   "metadata": {},
   "outputs": [],
   "source": [
    "# 练习,通过鼠标绘制三点的外接圆"
   ]
  },
  {
   "cell_type": "code",
   "execution_count": 21,
   "id": "39f1877b",
   "metadata": {},
   "outputs": [
    {
     "name": "stdout",
     "output_type": "stream",
     "text": [
      "1 215 61 1 [(215, 61)]\n",
      "1 60 331 1 [(215, 61), (60, 331)]\n",
      "1 387 353 1 [(215, 61), (60, 331), (387, 353)]\n",
      "准备画圆\n"
     ]
    }
   ],
   "source": [
    "import cv2\n",
    "import numpy as np\n",
    "def draw_lines(userdata):\n",
    "    _pts = np.array(userdata).reshape(1,-1,2)\n",
    "    cv2.polylines(img,_pts,True,(0,255,0))\n",
    "    \n",
    "def draw_circle(userdata):\n",
    "    # 三点坐标\n",
    "    p1, p2, p3 = userdata \n",
    "\n",
    "    # 计算三条边长度  \n",
    "    a = ((p2[0] - p3[0])**2 + (p2[1] - p3[1])**2)**0.5\n",
    "    b = ((p1[0] - p3[0])**2 + (p1[1] - p3[1])**2)**0.5\n",
    "    c = ((p1[0] - p2[0])**2 + (p1[1] - p2[1])**2)**0.5\n",
    "\n",
    "    # 半周长\n",
    "    s = (a + b + c) / 2    \n",
    "\n",
    "    # 计算圆心坐标\n",
    "    x = (a*p1[0] + b*p2[0] + c*p3[0]) / (a+b+c)\n",
    "    y = (a*p1[1] + b*p2[1] + c*p3[1]) / (a+b+c)\n",
    "    center = (int(x), int(y))\n",
    "\n",
    "    # 计算圆半径 \n",
    "    r = a*b*c/4/np.sqrt(s*(s-a)*(s-b)*(s-c))\n",
    "    r = int(r)\n",
    "    \n",
    "    cv2.circle(img,center,r,(0,0,255))\n",
    "def mouse_callback(event,x,y,flags,userdata:list):\n",
    "    '''定义回调函数\n",
    "    当鼠标点击的时候,记录坐标\n",
    "    '''\n",
    "    if event == cv2.EVENT_LBUTTONDOWN and len(userdata)<3:\n",
    "        userdata.append((x,y))\n",
    "        draw_lines(userdata)\n",
    "        print(event,x,y,flags,userdata)\n",
    "        if len(userdata)==3:\n",
    "            print('准备画圆')\n",
    "            draw_circle(userdata)\n",
    "            pass\n",
    "img = cv2.imread('../data/linna.jpg')\n",
    "cv2.imshow('demo',img) \n",
    "pts=[]\n",
    "cv2.setMouseCallback('demo',mouse_callback,pts)\n",
    "while True:\n",
    "    cv2.imshow('demo',img) \n",
    "    key = cv2.waitKey(1)\n",
    "    if key == ord('q') or key == ord('\\033'):\n",
    "        break\n",
    "cv2.destroyAllWindows()\n",
    "pts=[]"
   ]
  },
  {
   "cell_type": "code",
   "execution_count": null,
   "id": "faae20c1",
   "metadata": {},
   "outputs": [],
   "source": []
  },
  {
   "cell_type": "code",
   "execution_count": null,
   "id": "e1a943a1",
   "metadata": {},
   "outputs": [],
   "source": []
  }
 ],
 "metadata": {
  "kernelspec": {
   "display_name": "yolo7_pytorch",
   "language": "python",
   "name": "yolo7_pytorch"
  },
  "language_info": {
   "codemirror_mode": {
    "name": "ipython",
    "version": 3
   },
   "file_extension": ".py",
   "mimetype": "text/x-python",
   "name": "python",
   "nbconvert_exporter": "python",
   "pygments_lexer": "ipython3",
   "version": "3.10.9"
  }
 },
 "nbformat": 4,
 "nbformat_minor": 5
}