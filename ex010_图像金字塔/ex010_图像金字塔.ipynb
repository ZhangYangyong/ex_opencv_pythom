{
 "cells": [
  {
   "cell_type": "code",
   "execution_count": 1,
   "id": "3e07a921",
   "metadata": {},
   "outputs": [],
   "source": [
    "import cv2\n",
    "import numpy as np"
   ]
  },
  {
   "cell_type": "code",
   "execution_count": 2,
   "id": "23fdfccb",
   "metadata": {},
   "outputs": [],
   "source": [
    "# 图像金字塔是一张图像的多尺度表达的方式,原始图形经过一系列下采样的方式构成的集合"
   ]
  },
  {
   "cell_type": "code",
   "execution_count": 3,
   "id": "3e3bf811",
   "metadata": {},
   "outputs": [],
   "source": [
    "# 两种常见的金字塔\n",
    "# 高斯金字塔 用来下采样\n",
    "# 拉普拉斯金字塔 用来从图像金字塔低分辨率层重建上层未采样的图像,\n",
    "# 在数字图像处理中也称为预测残差,可以对图像进行最大程度的还原,配合高斯金字塔一起使用"
   ]
  },
  {
   "cell_type": "code",
   "execution_count": 4,
   "id": "872fe737",
   "metadata": {},
   "outputs": [],
   "source": [
    "# 高斯金字塔通过高斯平滑和下采样操作构建\n",
    "'''\n",
    "高斯金字塔是最基本的图像塔。首先将原图像作为最底层图像G0（高斯金字塔的第0层），\n",
    "利用高斯核（5*5）对其进行卷积，然后对卷积后的图像进行下采样（去除偶数行和列）得到上一层图像G1，\n",
    "将此图像作为输入，重复卷积和下采样操作得到更上一层图像，反复迭代多次，\n",
    "形成一个金字塔形的图像数据结构，即高斯金字塔。\n",
    "'''\n",
    "# 注意 下采样过程会丢失信息,所以金字塔越底层分辨率越小,图片含有的信息也越少\n",
    "pass"
   ]
  },
  {
   "cell_type": "code",
   "execution_count": 5,
   "id": "8ce191e9",
   "metadata": {},
   "outputs": [],
   "source": [
    "img =cv2.imread('../data/linna.jpg')"
   ]
  },
  {
   "cell_type": "code",
   "execution_count": 6,
   "id": "be47c46d",
   "metadata": {},
   "outputs": [],
   "source": [
    "# pyrDown(src[, dst[, dstsize[, borderType]]]) -> dst 下采样接口 先卷积,再去掉偶数行列\n",
    "new_img = cv2.pyrDown(img)\n",
    "# 和直接输出1/2图像对比  先高斯模糊再下采样比直接下采样更平滑\n",
    "new_img2 = img[::2,::2]\n",
    "show_img = np.hstack((new_img,new_img2))\n",
    "cv2.namedWindow('ex',cv2.WINDOW_NORMAL)\n",
    "cv2.imshow('ex',show_img)\n",
    "cv2.waitKey(0)\n",
    "cv2.destroyAllWindows()\n"
   ]
  },
  {
   "cell_type": "code",
   "execution_count": 11,
   "id": "05c200e1",
   "metadata": {},
   "outputs": [],
   "source": [
    "# opencv 还提供了一个向上采样的接口\n",
    "# pyrUp(src[, dst[, dstsize[, borderType]]]) -> dst  先隔行补0,再和  高斯核卷积*4  卷积\n",
    "upimg = cv2.pyrUp(new_img)\n",
    "# 和resize对比\n",
    "upimg2 = cv2.resize(new_img2,None,fx=2,fy=2)\n",
    "\n",
    "show_img = np.hstack((img,upimg,upimg2))\n",
    "\n",
    "cv2.namedWindow('ex',cv2.WINDOW_NORMAL)\n",
    "cv2.imshow('ex',show_img)\n",
    "cv2.waitKey(0)\n",
    "cv2.destroyAllWindows()"
   ]
  },
  {
   "cell_type": "code",
   "execution_count": 7,
   "id": "a45e31c9",
   "metadata": {},
   "outputs": [],
   "source": [
    "# 拉普拉斯金字塔\n",
    "# Li = Gi-pyrUp(pyrDown(Gi))\n",
    "# 每一层 是该层的原图-原图先下采样再上采样 = 高斯金字塔每层丢失的信息"
   ]
  },
  {
   "cell_type": "code",
   "execution_count": null,
   "id": "b5d6d704",
   "metadata": {},
   "outputs": [],
   "source": [
    "img =cv2.imread('../data/linna.jpg')\n",
    "down_img = cv2.pyrDown(img)\n",
    "upimg = cv2.pyrUp(new_img)\n",
    "la = img-upimg\n",
    "\n",
    "cv2.namedWindow('ex',cv2.WINDOW_NORMAL)\n",
    "cv2.imshow('ex',show_img)\n",
    "cv2.waitKey(0)\n",
    "cv2.destroyAllWindows()"
   ]
  }
 ],
 "metadata": {
  "kernelspec": {
   "display_name": "yolo7_pytorch",
   "language": "python",
   "name": "yolo7_pytorch"
  },
  "language_info": {
   "codemirror_mode": {
    "name": "ipython",
    "version": 3
   },
   "file_extension": ".py",
   "mimetype": "text/x-python",
   "name": "python",
   "nbconvert_exporter": "python",
   "pygments_lexer": "ipython3",
   "version": "3.10.9"
  }
 },
 "nbformat": 4,
 "nbformat_minor": 5
}
