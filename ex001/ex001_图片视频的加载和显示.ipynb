{
 "cells": [
  {
   "cell_type": "code",
   "execution_count": 7,
   "id": "c50566ad",
   "metadata": {},
   "outputs": [],
   "source": [
    "import cv2"
   ]
  },
  {
   "cell_type": "code",
   "execution_count": 8,
   "id": "d8e3e337",
   "metadata": {},
   "outputs": [],
   "source": [
    "# 创建窗口\n",
    "cv2.namedWindow('ex_window',cv2.WINDOW_AUTOSIZE) # namedWindow(winname[, flags]) -> None\n",
    "# 窗口支持的 flag WINDOW_NORMAL or WINDOW_AUTOSIZE \n",
    "# \n",
    "# 展示窗口并等待按键销毁\n",
    "cv2.imshow('ex_window',0)\n",
    "a = cv2.waitKey(0) # waitKey([, delay]) -> retval 返回值是按得键的ASCII编码  参数的数字是等待按键的ms数\n",
    "# print(a)\n",
    "\n",
    "cv2.destroyAllWindows()\n"
   ]
  },
  {
   "cell_type": "code",
   "execution_count": 9,
   "id": "fabdf16a",
   "metadata": {},
   "outputs": [
    {
     "data": {
      "text/plain": [
       "113"
      ]
     },
     "execution_count": 9,
     "metadata": {},
     "output_type": "execute_result"
    }
   ],
   "source": [
    "# 补充 获取键盘上一个按键的ascii编码\n",
    "ord('q')"
   ]
  },
  {
   "cell_type": "code",
   "execution_count": 10,
   "id": "39a36d05",
   "metadata": {},
   "outputs": [],
   "source": [
    "# 读取一张图片并显示\n",
    "img = cv2.imread('linna.jpg')\n",
    "cv2.imshow('linna',img) \n",
    "cv2.waitKey(0) \n",
    "cv2.destroyAllWindows()\n",
    "# 这个不允许拖动修改窗口大小,默认是 WINDOW_AUTOSIZE"
   ]
  },
  {
   "cell_type": "code",
   "execution_count": 11,
   "id": "b7093dfa",
   "metadata": {},
   "outputs": [],
   "source": [
    "# 这种方式可以修改窗口大小\n",
    "cv2.namedWindow('linna',cv2.WINDOW_NORMAL)\n",
    "img = cv2.imread('linna.jpg')\n",
    "cv2.imshow('linna',img) \n",
    "cv2.waitKey(0)\n",
    "cv2.destroyAllWindows()\n",
    "# cv2.destroyWindow('linna') # destroyWindow(winname) -> None\n",
    "# 销毁指定的窗口"
   ]
  },
  {
   "cell_type": "code",
   "execution_count": 12,
   "id": "30936ddf",
   "metadata": {},
   "outputs": [],
   "source": [
    "# 通过指定按键来销毁\n",
    "cv2.namedWindow('linna',cv2.WINDOW_NORMAL)\n",
    "img = cv2.imread('linna.jpg')\n",
    "cv2.imshow('linna',img) \n",
    "key = cv2.waitKey(0)\n",
    "if key == ord('q'):\n",
    "    cv2.destroyAllWindows()"
   ]
  },
  {
   "cell_type": "code",
   "execution_count": null,
   "id": "22647404",
   "metadata": {},
   "outputs": [],
   "source": []
  }
 ],
 "metadata": {
  "kernelspec": {
   "display_name": "opencv3_4_1_14",
   "language": "python",
   "name": "opencv3_4_1_14"
  },
  "language_info": {
   "codemirror_mode": {
    "name": "ipython",
    "version": 3
   },
   "file_extension": ".py",
   "mimetype": "text/x-python",
   "name": "python",
   "nbconvert_exporter": "python",
   "pygments_lexer": "ipython3",
   "version": "3.6.2"
  }
 },
 "nbformat": 4,
 "nbformat_minor": 5
}
