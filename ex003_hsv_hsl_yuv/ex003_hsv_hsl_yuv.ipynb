{
 "cells": [
  {
   "cell_type": "code",
   "execution_count": 1,
   "id": "84b7e666",
   "metadata": {},
   "outputs": [],
   "source": [
    "import cv2\n",
    "import matplotlib.pyplot as plt\n",
    "import numpy as np"
   ]
  },
  {
   "cell_type": "code",
   "execution_count": 2,
   "id": "7f619e91",
   "metadata": {},
   "outputs": [],
   "source": [
    "# ![jupyter](./jupyter_logo.png)"
   ]
  },
  {
   "cell_type": "markdown",
   "id": "e9af2ec2",
   "metadata": {},
   "source": [
    "HSV(Hue, Saturation, Value)是根据颜色的直观特性由A. R. Smith在1978年创建的一种颜色空间, 也称六角锥体模型(Hexcone Model)。HSV色系对用户来说是一种直观的颜色模型，对于颜色，人们直观的会问”什么颜色？深浅如何？明暗如何？“，而HSV色系则直观的表示了这些信息。\n",
    "\n",
    "每一种颜色都是由色相（Hue，简H），饱和度（Saturation，简S）和色明度（Value，简V）所表示的。这个模型中颜色的参数分别是：色调（H），饱和度（S），亮度（V）。\n",
    "\n",
    "色调H参数表示色彩信息，即所处的光谱颜色的位置。该参数用一角度量来表示，取值范围为0°～360°。若从红色开始按逆时针方向计算，红色为0°，绿色为120°，蓝色为240°。它们的补色是：黄色为60°，青色为180°，紫色为300°；\n",
    "\n",
    "饱和度S：取值范围为0.0～1.0；(颜色中混合了多少白色)\n",
    "\n",
    "亮度V：取值范围为0.0(黑色)～1.0(白色)。\n",
    "\n",
    "![jupyter](./hsv.png)\n",
    "\n"
   ]
  },
  {
   "cell_type": "markdown",
   "id": "27d5f1e9",
   "metadata": {},
   "source": [
    "-------------------------------------------------------"
   ]
  },
  {
   "cell_type": "markdown",
   "id": "fb20aa7e",
   "metadata": {},
   "source": [
    "\n",
    "HSL即色相、饱和度、亮度（英语：Hue, Saturation, Lightness）。\n",
    "\n",
    "色相（H）是色彩的基本属性，就是平常所说的颜色名称，如红色、黄色等。\n",
    "\n",
    "饱和度（S）是指色彩的纯度，越高色彩越纯，低则逐渐变灰，取0-100%的数值。(颜色中加了多少稀释成分(透明))\n",
    "\n",
    "亮度（L），取0-100% (混入黑白颜色的多少)\n",
    "![hsl](./hsl.jpg)"
   ]
  },
  {
   "cell_type": "markdown",
   "id": "b4ff89ad",
   "metadata": {},
   "source": [
    "------------------------------"
   ]
  },
  {
   "cell_type": "markdown",
   "id": "3cc1f1aa",
   "metadata": {},
   "source": [
    "YUV是一种颜色空间，基于YUV的颜色编码是流媒体的常用编码方式。Y表示流明，U、V表示色度、浓度，这种表达方式起初是为了彩色电视与黑白电视之间的信号兼容。 对于图像每一点，Y确定其亮度，UV确认其彩度。\n",
    "\n",
    "\n",
    "因为人眼对颜色没有亮度敏感,因此经常的做法是对亮度完全采样,而对颜色进行抽样采样\n",
    "y表示灰度信息\n",
    "uv表示色度信息\n",
    "444,422,420,411"
   ]
  },
  {
   "cell_type": "code",
   "execution_count": 6,
   "id": "17864acf",
   "metadata": {},
   "outputs": [
    {
     "data": {
      "text/plain": [
       "(512, 512, 3)"
      ]
     },
     "execution_count": 6,
     "metadata": {},
     "output_type": "execute_result"
    }
   ],
   "source": [
    "# 统计图片中有多少种rgb颜色\n",
    "img = cv2.imread('../data/linna.jpg')\n",
    "img.shape"
   ]
  },
  {
   "cell_type": "code",
   "execution_count": 13,
   "id": "80254921",
   "metadata": {},
   "outputs": [
    {
     "data": {
      "text/plain": [
       "0         False\n",
       "1          True\n",
       "2         False\n",
       "3         False\n",
       "4         False\n",
       "          ...  \n",
       "262139     True\n",
       "262140     True\n",
       "262141     True\n",
       "262142     True\n",
       "262143     True\n",
       "Length: 262144, dtype: bool"
      ]
     },
     "execution_count": 13,
     "metadata": {},
     "output_type": "execute_result"
    }
   ],
   "source": [
    "# 使用pandas的方式\n",
    "import pandas\n",
    "import cv2\n",
    "img = cv2.imread('../data/linna.jpg')\n",
    "img = pandas.DataFrame(img.reshape(-1,3))\n",
    "# img.shape (262144, 3)\n",
    "\n",
    "# pandas的统计是否有重复\n",
    "img.duplicated()"
   ]
  },
  {
   "cell_type": "code",
   "execution_count": 14,
   "id": "a11ac4f4",
   "metadata": {},
   "outputs": [
    {
     "data": {
      "text/plain": [
       "113865"
      ]
     },
     "execution_count": 14,
     "metadata": {},
     "output_type": "execute_result"
    }
   ],
   "source": [
    "img.duplicated().sum()"
   ]
  },
  {
   "cell_type": "code",
   "execution_count": 16,
   "id": "8a5176a3",
   "metadata": {},
   "outputs": [
    {
     "data": {
      "text/plain": [
       "148279"
      ]
     },
     "execution_count": 16,
     "metadata": {},
     "output_type": "execute_result"
    }
   ],
   "source": [
    "img.shape[0]-img.duplicated().sum()"
   ]
  },
  {
   "cell_type": "code",
   "execution_count": 18,
   "id": "e6e4ded7",
   "metadata": {},
   "outputs": [
    {
     "name": "stdout",
     "output_type": "stream",
     "text": [
      "148279\n"
     ]
    }
   ],
   "source": [
    "# 利用numpy自身的功能\n",
    "\n",
    "import cv2\n",
    "import numpy as np\n",
    "\n",
    "img = cv2.imread('../data/linna.jpg')\n",
    "\n",
    "unique_colors = np.unique(img.reshape(-1,3), axis=0)\n",
    "\n",
    "print(len(unique_colors))"
   ]
  },
  {
   "cell_type": "code",
   "execution_count": 26,
   "id": "d704ec70",
   "metadata": {},
   "outputs": [],
   "source": [
    "# 常见的颜色转换方式\n",
    "# api cv2.cvtColor(img,colorcompose) \n",
    "# 注意这个函数不会改变原有的数组 因此要用一个变量来接受改变后的数据"
   ]
  },
  {
   "cell_type": "code",
   "execution_count": 21,
   "id": "ecc9a1b6",
   "metadata": {},
   "outputs": [],
   "source": [
    "img = cv2.imread('../data/linna.jpg')\n",
    "img = cv2.cvtColor(img,cv2.COLOR_BGR2RGB)\n",
    "cv2.imshow('COLOR_BGR2RGB',img)\n",
    "cv2.waitKey(0)\n",
    "cv2.destroyAllWindows()"
   ]
  },
  {
   "cell_type": "code",
   "execution_count": 25,
   "id": "cf1a9172",
   "metadata": {},
   "outputs": [],
   "source": [
    "img = cv2.imread('../data/linna.jpg')\n",
    "img = cv2.cvtColor(img,cv2.COLOR_BGR2HSV)\n",
    "cv2.imshow('COLOR_BGR2RGB',img)\n",
    "cv2.waitKey(0)\n",
    "cv2.destroyAllWindows()"
   ]
  },
  {
   "cell_type": "code",
   "execution_count": null,
   "id": "720f234d",
   "metadata": {},
   "outputs": [],
   "source": []
  }
 ],
 "metadata": {
  "kernelspec": {
   "display_name": "yolo7_pytorch",
   "language": "python",
   "name": "yolo7_pytorch"
  },
  "language_info": {
   "codemirror_mode": {
    "name": "ipython",
    "version": 3
   },
   "file_extension": ".py",
   "mimetype": "text/x-python",
   "name": "python",
   "nbconvert_exporter": "python",
   "pygments_lexer": "ipython3",
   "version": "3.10.9"
  }
 },
 "nbformat": 4,
 "nbformat_minor": 5
}
