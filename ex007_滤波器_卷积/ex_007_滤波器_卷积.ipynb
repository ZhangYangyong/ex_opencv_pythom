{
 "cells": [
  {
   "cell_type": "code",
   "execution_count": 1,
   "id": "97d5644a",
   "metadata": {},
   "outputs": [],
   "source": [
    "import cv2\n",
    "import numpy as np\n",
    "import matplotlib.pyplot as plt"
   ]
  },
  {
   "cell_type": "markdown",
   "id": "d659ecc4",
   "metadata": {},
   "source": [
    "# 卷积\n"
   ]
  },
  {
   "cell_type": "code",
   "execution_count": 2,
   "id": "8e25b4d7",
   "metadata": {},
   "outputs": [],
   "source": [
    "# 图像卷积就是卷积核在图像上按行滑动遍历像素时不断相乘求和的操作\n",
    "# 卷积操作要素\n",
    "# img 原始图片\n",
    "# kernel 卷积核(一个矩阵,形状(hwc)和权重) 一般为奇数的形状,便于计算中心,在opencv中默认的锚点就是中心\n",
    "# stride 步长,每次滑动的距离\n",
    "# padding 一般情况下卷积之后图像尺寸会缩小,为了保持不变,可以在原图周围补0,padding的大小就是补0的圈数\n",
    "# featmap 卷积之后的结果"
   ]
  },
  {
   "cell_type": "code",
   "execution_count": 3,
   "id": "9662d37f",
   "metadata": {},
   "outputs": [],
   "source": [
    "# opencv中 进行卷积的api filter2D(src, ddepth, kernel[, dst[, anchor[, delta[, borderType]]]]) -> dst\n",
    "\n",
    "# ddepth 位深,输出的结果矩阵的数据类型(一般设为-1和原始图片一致,unit8)\n",
    "# kernel 卷积核,用元组或者ndarray表示,数据类型必须是float型\n",
    "# 卷积核的锚点,默认是(-1,-1),表示卷积核的中心\n",
    "# delta 偏置数,相乘相加后的结果再额外加上的数,默认0.\n",
    "# borderType 边界类型 一般不用"
   ]
  },
  {
   "cell_type": "code",
   "execution_count": 4,
   "id": "36e1fbef",
   "metadata": {},
   "outputs": [],
   "source": [
    "img =cv2.imread('../data/linna.jpg')"
   ]
  },
  {
   "cell_type": "code",
   "execution_count": 15,
   "id": "1b26ee86",
   "metadata": {},
   "outputs": [
    {
     "data": {
      "text/plain": [
       "array([[0.04, 0.04, 0.04, 0.04, 0.04],\n",
       "       [0.04, 0.04, 0.04, 0.04, 0.04],\n",
       "       [0.04, 0.04, 0.04, 0.04, 0.04],\n",
       "       [0.04, 0.04, 0.04, 0.04, 0.04],\n",
       "       [0.04, 0.04, 0.04, 0.04, 0.04]], dtype=float32)"
      ]
     },
     "execution_count": 15,
     "metadata": {},
     "output_type": "execute_result"
    }
   ],
   "source": [
    "kernel = np.ones((5,5),dtype = np.float32)/25 # 只要一个二维矩阵就行了,原图的几个个通道执行的是一样的\n",
    "kernel\n"
   ]
  },
  {
   "cell_type": "code",
   "execution_count": 16,
   "id": "80a644f5",
   "metadata": {},
   "outputs": [],
   "source": [
    "feat = cv2.filter2D(src= img, ddepth=-1, kernel=kernel)\n",
    "res = np.hstack((img,feat))\n",
    "cv2.imshow('000',res)\n",
    "cv2.waitKey(0)\n",
    "cv2.destroyAllWindows()"
   ]
  },
  {
   "cell_type": "markdown",
   "id": "d9f4158a",
   "metadata": {},
   "source": [
    "# 滤波器\n",
    "opencv 一些常用的卷积操作直接提供了函数,本质是卷积,避免手动创建卷积核的操作"
   ]
  },
  {
   "cell_type": "markdown",
   "id": "185e9b7f",
   "metadata": {},
   "source": [
    "## 方盒滤波 均值滤波"
   ]
  },
  {
   "cell_type": "code",
   "execution_count": 24,
   "id": "05965f99",
   "metadata": {},
   "outputs": [],
   "source": [
    "# 方盒滤波 boxFilter(src, ddepth, ksize[, dst[, anchor[, normalize[, borderType]]]]) -> dst \n",
    "# 矩阵的每个元素都是1, normalize =Ture(默认是flase) 卷积核额外乘上元素的个数的倒数(求均值) 等价于均值滤波\n",
    "# 均值滤波  blur(src, ksize[, dst[, anchor[, borderType]]]) -> dst 注意没有位深参数了\n",
    "img_box_filter = cv2.boxFilter(img,-1,(5,5),normalize=True)\n",
    "img_blur = cv2.blur(img,(5,5))\n",
    "\n",
    "res = np.hstack((img,img_box_filter,img_blur))\n",
    "cv2.imshow('000',res)\n",
    "cv2.waitKey(0)\n",
    "cv2.destroyAllWindows()\n"
   ]
  },
  {
   "cell_type": "markdown",
   "id": "77c459ef",
   "metadata": {},
   "source": [
    "## 高斯滤波\n",
    "### 强调中心像素,平滑 会模糊边缘"
   ]
  },
  {
   "cell_type": "code",
   "execution_count": 25,
   "id": "be854e78",
   "metadata": {},
   "outputs": [],
   "source": [
    "# 高斯滤波 GaussianBlur(src, ksize, sigmaX[, dst[, sigmaY[, borderType]]]) -> dst"
   ]
  },
  {
   "cell_type": "markdown",
   "id": "962c1ca7",
   "metadata": {},
   "source": [
    "![gaussian](./gaussian.png)"
   ]
  },
  {
   "cell_type": "markdown",
   "id": "8f954638",
   "metadata": {},
   "source": [
    "![img](./高斯核模板.png)"
   ]
  },
  {
   "cell_type": "markdown",
   "id": "2c5dba45",
   "metadata": {},
   "source": [
    "这个时候我们我们还要确保这九个点加起来为1（这个是高斯模板的特性），这9个点的权重总和等于0.4787147，因此上面9个值还要分别除以0.4787147，得到最终的高斯模板。\n",
    "![img](./高斯核模板2.png)"
   ]
  },
  {
   "cell_type": "code",
   "execution_count": 39,
   "id": "79e3d5a3",
   "metadata": {},
   "outputs": [
    {
     "data": {
      "text/plain": [
       "True"
      ]
     },
     "execution_count": 39,
     "metadata": {},
     "output_type": "execute_result"
    }
   ],
   "source": [
    "# 高斯滤波 GaussianBlur(src, ksize, sigmaX[, dst[, sigmaY[, borderType]]]) -> dst\n",
    "# 作用 可以处理有高斯噪声(模糊,雪花点)的图片,使之变清晰\n",
    "GaussianBlur_img1 = cv2.GaussianBlur(img,(11,11),sigmaX=1,sigmaY=1)\n",
    "GaussianBlur_img10 = cv2.GaussianBlur(img,(11,11),sigmaX=10,sigmaY=10)\n",
    "GaussianBlur_img100 = cv2.GaussianBlur(img,(11,11),sigmaX=100) # 默认Y = X\n",
    "GaussianBlur_imgs = np.hstack((img,GaussianBlur_img1,GaussianBlur_img10,GaussianBlur_img100))\n",
    "cv2.imshow('ex',GaussianBlur_imgs)\n",
    "cv2.waitKey(0)\n",
    "cv2.destroyAllWindows()\n",
    "cv2.imwrite('./GaussianBlur_imgs.png',GaussianBlur_imgs)"
   ]
  },
  {
   "cell_type": "markdown",
   "id": "b59ec1ff",
   "metadata": {},
   "source": [
    "![img](./GaussianBlur_imgs.png)"
   ]
  },
  {
   "cell_type": "code",
   "execution_count": 40,
   "id": "776acece",
   "metadata": {},
   "outputs": [
    {
     "data": {
      "text/plain": [
       "True"
      ]
     },
     "execution_count": 40,
     "metadata": {},
     "output_type": "execute_result"
    }
   ],
   "source": [
    "# sigma可以自动计算\n",
    "GaussianBlur_img1 = cv2.GaussianBlur(img,(11,11),sigmaX=0,sigmaY=0)\n",
    "# GaussianBlur_img10 = cv2.GaussianBlur(img,(11,11),sigmaX=10,sigmaY=10)\n",
    "# GaussianBlur_img100 = cv2.GaussianBlur(img,(11,11),sigmaX=100) # 默认Y = X\n",
    "GaussianBlur_imgs2 = np.hstack((img,GaussianBlur_img1))\n",
    "\n",
    "cv2.imshow('ex',GaussianBlur_imgs2)\n",
    "cv2.waitKey(0)\n",
    "cv2.destroyAllWindows()\n",
    "cv2.imwrite('./GaussianBlur_imgs2.png',GaussianBlur_imgs2)"
   ]
  },
  {
   "cell_type": "markdown",
   "id": "594e4577",
   "metadata": {},
   "source": [
    "![img](./GaussianBlur_imgs2.png)"
   ]
  },
  {
   "cell_type": "code",
   "execution_count": 43,
   "id": "95bcb3c8",
   "metadata": {},
   "outputs": [
    {
     "data": {
      "text/plain": [
       "True"
      ]
     },
     "execution_count": 43,
     "metadata": {},
     "output_type": "execute_result"
    }
   ],
   "source": [
    "# sigma相同,核尺寸越大模糊效果越强\n",
    "GaussianBlur_img11 = cv2.GaussianBlur(img,(11,11),sigmaX=10)\n",
    "GaussianBlur_img21 = cv2.GaussianBlur(img,(21,21),sigmaX=10)\n",
    "GaussianBlur_img51 = cv2.GaussianBlur(img,(51,51),sigmaX=10) # 默认Y = X\n",
    "GaussianBlur_imgs3 = np.hstack((img,GaussianBlur_img11,GaussianBlur_img21,GaussianBlur_img51))\n",
    "# for i in (img,GaussianBlur_img11,GaussianBlur_img21,GaussianBlur_img51):\n",
    "#     print(i.shape)\n",
    "cv2.imshow('ex',GaussianBlur_imgs3)\n",
    "cv2.waitKey(0)\n",
    "cv2.destroyAllWindows()\n",
    "cv2.imwrite('./GaussianBlur_imgs3.png',GaussianBlur_imgs3)"
   ]
  },
  {
   "cell_type": "markdown",
   "id": "d16f60ee",
   "metadata": {},
   "source": [
    "![img](./GaussianBlur_imgs3.png)"
   ]
  },
  {
   "cell_type": "markdown",
   "id": "a4fb566b",
   "metadata": {},
   "source": [
    "## 中值滤波 \n",
    "### 对椒盐噪声很好用"
   ]
  },
  {
   "cell_type": "code",
   "execution_count": 44,
   "id": "74ce43bc",
   "metadata": {},
   "outputs": [],
   "source": [
    "# 中值滤波 就是取滑动窗口中的像素的中位数做输出结果\n",
    "# medianBlur(src, ksize[, dst]) -> dst\n",
    "# 为什么对椒盐噪声比较好,\n",
    "# 因为椒盐噪声是一些偏亮的白点噪声或者偏暗的黑点噪声,不会出现在窗口的中位数上"
   ]
  },
  {
   "cell_type": "code",
   "execution_count": 45,
   "id": "9e989f76",
   "metadata": {},
   "outputs": [],
   "source": [
    "img_salt = cv2.imread('./img_salt.png')"
   ]
  },
  {
   "cell_type": "code",
   "execution_count": 52,
   "id": "284fbf59",
   "metadata": {},
   "outputs": [
    {
     "data": {
      "text/plain": [
       "True"
      ]
     },
     "execution_count": 52,
     "metadata": {},
     "output_type": "execute_result"
    }
   ],
   "source": [
    "img_medianblur = cv2.medianBlur(img_salt,7)\n",
    "\n",
    "cv2.imshow('ex',img_medianblur)\n",
    "cv2.waitKey(0)\n",
    "cv2.destroyAllWindows()\n",
    "cv2.imwrite('img_medianblur.png',img_medianblur)"
   ]
  },
  {
   "cell_type": "markdown",
   "id": "2a597c51",
   "metadata": {},
   "source": [
    "![img](./img_salt.png)\n",
    "![img](./img_medianblur.png)"
   ]
  },
  {
   "cell_type": "markdown",
   "id": "82321fd8",
   "metadata": {},
   "source": [
    "## 双边滤波\n",
    "### 计算时间随核的大小的平方增长\n",
    "### 既保留边缘,又能降噪"
   ]
  },
  {
   "attachments": {},
   "cell_type": "markdown",
   "id": "82aed615",
   "metadata": {},
   "source": [
    "https://blog.csdn.net/u013921430/article/details/84532068\n",
    "\n",
    "在高斯滤波的基础上加入了像素值权重项，也就是说既要考虑距离因素，也要考虑像素值差异的影响，像素值越相近，权重越大\n",
    "![image.png](双边滤波.png)\n",
    "![image.png](双边滤波2.png)"
   ]
  },
  {
   "cell_type": "code",
   "execution_count": 65,
   "id": "a4729fab",
   "metadata": {},
   "outputs": [],
   "source": [
    "# bilateralFilter(src, d, sigmaColor, sigmaSpace[, dst[, borderType]]) -> dst\n",
    "# d int 类似卷积核的大小,实际是一个采样直径\n",
    "img = cv2.imread('../data/linna.jpg')\n",
    "res = cv2.bilateralFilter(img_salt,7,10,20)\n",
    "res = np.hstack((img,res))\n",
    "cv2.imshow('ex',res)\n",
    "cv2.waitKey(0)\n",
    "cv2.destroyAllWindows()"
   ]
  },
  {
   "cell_type": "code",
   "execution_count": null,
   "id": "3627d27c",
   "metadata": {},
   "outputs": [],
   "source": []
  }
 ],
 "metadata": {
  "kernelspec": {
   "display_name": "yolo7_pytorch",
   "language": "python",
   "name": "yolo7_pytorch"
  },
  "language_info": {
   "codemirror_mode": {
    "name": "ipython",
    "version": 3
   },
   "file_extension": ".py",
   "mimetype": "text/x-python",
   "name": "python",
   "nbconvert_exporter": "python",
   "pygments_lexer": "ipython3",
   "version": "3.10.9"
  }
 },
 "nbformat": 4,
 "nbformat_minor": 5
}
