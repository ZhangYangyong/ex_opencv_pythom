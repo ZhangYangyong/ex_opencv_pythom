{
 "cells": [
  {
   "cell_type": "markdown",
   "id": "7eac16e3",
   "metadata": {},
   "source": [
    "# 边缘检测\n",
    " 用于检出图像边缘\n",
    " 边缘是像素值发生剧烈变化的地方,是图像的显著特征之一,在图像特征提取,对象检测,模式识别方面有重要作用\n",
    " ![img](常用的边缘检测算子.png)"
   ]
  },
  {
   "cell_type": "code",
   "execution_count": 1,
   "id": "2f18b4a9",
   "metadata": {},
   "outputs": [],
   "source": [
    "import cv2\n",
    "import numpy as np"
   ]
  },
  {
   "cell_type": "markdown",
   "id": "798eecea",
   "metadata": {},
   "source": [
    "## 索贝尔算子(sobel)\n",
    "一阶微分算子，X、Y方向边缘检测\n",
    "缺点 误差较大,不够敏感\n",
    "\n",
    "https://blog.csdn.net/great_yzl/article/details/119709699\n",
    "![img](sobel.png)"
   ]
  },
  {
   "cell_type": "markdown",
   "id": "2d8b322c",
   "metadata": {},
   "source": [
    "ex007.jpg\n",
    "<img src=\"../data/ex007.jpg\" width=200 height=200>"
   ]
  },
  {
   "cell_type": "code",
   "execution_count": 2,
   "id": "d3e9bc0c",
   "metadata": {},
   "outputs": [
    {
     "data": {
      "text/plain": [
       "True"
      ]
     },
     "execution_count": 2,
     "metadata": {},
     "output_type": "execute_result"
    }
   ],
   "source": [
    "# 使用sobel算子 \n",
    "#  Sobel(src, ddepth(位深), dx, dy[, dst[, ksize[, scale[, delta[, borderType]]]]]) -> dst\n",
    "# x 和 y 一般要分开计算(dx和dy同时使用 效果会比较差) 然后计算整体梯度 \n",
    "img = cv2.imread('../data/ex007.jpg',0) # 读灰度图(彩色图也可以)\n",
    "\n",
    "\n",
    "# 计算 水平梯度 x方向 结果只保留垂直的线条 位深对精度影响很大\n",
    "gx = cv2.Sobel(img,cv2.CV_64F,dx=1,dy=0,ksize=5) # 默认是ksize=3\n",
    "\n",
    "# 计算 垂直梯度 y方向 结果只保留水平的线条\n",
    "gy = cv2.Sobel(img,cv2.CV_64F,dx=0,dy=1,ksize=5)\n",
    "\n",
    "# 把gx 和 gy 合并 求整体梯度 3种不同的求和方式\n",
    "gxy1 = cv2.add(gx,gy)\n",
    "gxy2 = cv2.addWeighted(gx,0.5,gy,0.5,0)\n",
    "gxy3 = np.uint8(np.sqrt(np.power(gx,2)+np.power(gy,2))) \n",
    "\n",
    "\n",
    "temp = np.hstack((img,gx,gy,gxy1,gxy2,gxy3))\n",
    "cv2.namedWindow('ex',cv2.WINDOW_NORMAL)\n",
    "cv2.imshow('ex',temp)\n",
    "cv2.waitKey(0)\n",
    "cv2.destroyAllWindows()\n",
    "\n",
    "cv2.imwrite('./sobel_gx_gy.jpg',temp)"
   ]
  },
  {
   "cell_type": "markdown",
   "id": "abb77d68",
   "metadata": {},
   "source": [
    "./sobel_gx_gy.jpg\n",
    "<img src=\"./sobel_gx_gy.jpg\"  >"
   ]
  },
  {
   "cell_type": "markdown",
   "id": "44ed929f",
   "metadata": {},
   "source": [
    "## 沙尔算子(Scharr)\n",
    "### 改进sobel算子精度较差的缺陷(核大小固定为3*3,不可以选)\n",
    "### 更擅长寻找细小的边缘,一般情况下sobel也够用了\n",
    "<img src=\"./scharr.png\">"
   ]
  },
  {
   "cell_type": "code",
   "execution_count": 3,
   "id": "9fed7aef",
   "metadata": {},
   "outputs": [
    {
     "data": {
      "text/plain": [
       "True"
      ]
     },
     "execution_count": 3,
     "metadata": {},
     "output_type": "execute_result"
    }
   ],
   "source": [
    "# Scharr(src, ddepth, dx, dy[, dst[, scale[, delta[, borderType]]]]) -> dst\n",
    "# x 和 y 一般要分开计算(dx和dy同时使用 效果会比较差) 然后计算整体梯度 \n",
    "img = cv2.imread('../data/linna.jpg') \n",
    "\n",
    "\n",
    "# 计算 水平梯度 x方向 结果只保留垂直的线条 位深对精度影响很大\n",
    "gx = cv2.Scharr(img,cv2.CV_64F,dx=1,dy=0)\n",
    "\n",
    "# 计算 垂直梯度 y方向 结果只保留水平的线条\n",
    "gy = cv2.Scharr(img,cv2.CV_64F,dx=0,dy=1)\n",
    "\n",
    "# 把gx 和 gy 合并 求整体梯度 3种不同的求和方式\n",
    "gxy1 = cv2.add(gx,gy)\n",
    "gxy2 = cv2.addWeighted(gx,0.5,gy,0.5,0)\n",
    "gxy3 = np.uint8(np.sqrt(np.power(gx,2)+np.power(gy,2))) \n",
    "\n",
    "\n",
    "temp = np.hstack((img,gx,gy,gxy1,gxy2,gxy3))\n",
    "cv2.namedWindow('ex',cv2.WINDOW_NORMAL)\n",
    "cv2.imshow('ex',temp)\n",
    "cv2.waitKey(0)\n",
    "cv2.destroyAllWindows()\n",
    "\n",
    "cv2.imwrite('./scharr_gx_gy.jpg',temp)"
   ]
  },
  {
   "cell_type": "markdown",
   "id": "3d973f83",
   "metadata": {},
   "source": [
    "<img src=\"./scharr_gx_gy.jpg\"  >"
   ]
  },
  {
   "cell_type": "markdown",
   "id": "17124570",
   "metadata": {},
   "source": [
    "## 拉普拉斯算子\n",
    "sobel算子是模拟求一阶导,导数取得极值的地方可能就是边缘,如果在一阶导的基础上继续求导,二阶导数为0的点可能就是边缘\n",
    "\n",
    "要注意 二阶导数为0的点也可能不是极值点\n",
    "\n",
    "sobel算子和scharr算子一般先算一个水平梯度，再算一个垂直方向梯度，然后把两个结果按照0.5的权重进行图像融合以得到完整的边界。\n",
    "\n",
    "但Laplacian算子则不同，它本身就是一个二阶的算子，它的运算规则就是在水平方向运算两次，垂直方向运算两次，两个结果相叠加替换中心点（锚点）的像素值（灰度值）\n",
    "<img src=\"./拉普拉斯算子.png\"  >\n",
    "可以看出 拉普拉斯算子对类似椒盐噪声特别敏感,因此使用前通常需要进行降噪处理(中值滤波)"
   ]
  },
  {
   "cell_type": "code",
   "execution_count": 4,
   "id": "4710089e",
   "metadata": {},
   "outputs": [
    {
     "data": {
      "text/plain": [
       "True"
      ]
     },
     "execution_count": 4,
     "metadata": {},
     "output_type": "execute_result"
    }
   ],
   "source": [
    "# Laplacian(src, ddepth[, dst[, ksize[, scale[, delta[, borderType]]]]]) -> dst\n",
    "img =cv2.imread('./img_salt.png',0)\n",
    "img_me = cv2.medianBlur(img,7)\n",
    "img_la = cv2.Laplacian(img_me,cv2.CV_64F)\n",
    "\n",
    "temp = np.uint8(np.hstack((img,img_me,img_la)))\n",
    "cv2.namedWindow('ex',cv2.WINDOW_NORMAL)\n",
    "cv2.imshow('ex',temp)\n",
    "cv2.waitKey(0)\n",
    "cv2.destroyAllWindows()\n",
    "\n",
    "cv2.imwrite('./img_la.jpg',temp)"
   ]
  },
  {
   "cell_type": "markdown",
   "id": "f6b0d852",
   "metadata": {},
   "source": [
    "![img](./img_la.jpg)"
   ]
  },
  {
   "cell_type": "code",
   "execution_count": 5,
   "id": "2c5199db",
   "metadata": {},
   "outputs": [
    {
     "name": "stdout",
     "output_type": "stream",
     "text": [
      "float64\n",
      "float64\n"
     ]
    },
    {
     "data": {
      "text/plain": [
       "True"
      ]
     },
     "execution_count": 5,
     "metadata": {},
     "output_type": "execute_result"
    }
   ],
   "source": [
    "img =cv2.imread('../data/ex007.jpg',0) # 这张图片没有什么噪声\n",
    "# img_me = cv2.medianBlur(img,7)\n",
    "img_la = cv2.Laplacian(img,cv2.CV_64F)\n",
    "print(img_la.dtype)\n",
    "temp = np.hstack((img,img_la))\n",
    "print(temp.dtype)\n",
    "cv2.namedWindow('ex',cv2.WINDOW_NORMAL)\n",
    "cv2.imshow('ex',temp)\n",
    "cv2.waitKey(0)\n",
    "cv2.destroyAllWindows()\n",
    "\n",
    "cv2.imwrite('./img_la2.jpg',temp)"
   ]
  },
  {
   "cell_type": "markdown",
   "id": "d50b03f2",
   "metadata": {},
   "source": [
    "![img](./img_la2.jpg)"
   ]
  },
  {
   "cell_type": "markdown",
   "id": "da33ae27",
   "metadata": {},
   "source": [
    "## canny算子边缘检测\n",
    "https://zhuanlan.zhihu.com/p/99959996\n",
    "\n",
    " (1)   高斯模糊\n",
    " \n",
    "（2） 使用Sobel算子计算像素梯度大小和方向\n",
    "\n",
    "    g =(gx^2+gy^2)^0.5\n",
    "    θ = arctan(gy/gx)\n",
    "    \n",
    "<img src=\"./20210118145737745.png\"  >\n",
    "\n",
    "<img src=\"./v2-d0712c8a0b6aaea4d84fe45f454d0109_r.jpg\"  >\n",
    "\n",
    "（3） 非极大值像素梯度抑制\n",
    "\n",
    "\n",
    "（4） 阈值滞后处理\n",
    "\n",
    "（5） 孤立弱边缘抑制\n",
    "\n",
    "<img src=\"./canny边缘检测流程.png\"  >"
   ]
  },
  {
   "cell_type": "code",
   "execution_count": 18,
   "id": "520b7561",
   "metadata": {},
   "outputs": [],
   "source": [
    "# 使用 Canny(image, threshold1, threshold2[, edges[, apertureSize[, L2gradient]]]) -> edges\n",
    "img =cv2.imread('../data/linna.jpg',0) # 使用灰度图\n",
    "\n",
    "img_gaussianblur= cv2.GaussianBlur(img,(3,3),100)\n",
    "\n",
    "edge1 = cv2.Canny(img_gaussianblur,100,200)\n",
    "edge2 = cv2.Canny(img_gaussianblur,50,200)\n",
    "\n",
    "cv2.namedWindow('ex',cv2.WINDOW_NORMAL)\n",
    "cv2.imshow('ex',np.hstack((img,img_gaussianblur,edge1,edge2)))\n",
    "cv2.waitKey(0)\n",
    "cv2.destroyAllWindows()\n",
    "\n"
   ]
  },
  {
   "cell_type": "code",
   "execution_count": null,
   "id": "aa30d2b0",
   "metadata": {},
   "outputs": [],
   "source": [
    "            "
   ]
  }
 ],
 "metadata": {
  "kernelspec": {
   "display_name": "yolo7_pytorch",
   "language": "python",
   "name": "yolo7_pytorch"
  },
  "language_info": {
   "codemirror_mode": {
    "name": "ipython",
    "version": 3
   },
   "file_extension": ".py",
   "mimetype": "text/x-python",
   "name": "python",
   "nbconvert_exporter": "python",
   "pygments_lexer": "ipython3",
   "version": "3.10.9"
  }
 },
 "nbformat": 4,
 "nbformat_minor": 5
}