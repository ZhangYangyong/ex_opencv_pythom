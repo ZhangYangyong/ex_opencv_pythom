{
 "cells": [
  {
   "cell_type": "code",
   "execution_count": 1,
   "id": "ae504544",
   "metadata": {},
   "outputs": [],
   "source": [
    "# 图像轮廓是具有相同颜色或者灰度的连续点的曲线,图片中物体的边缘\n",
    "# 为了检测准确性,一般先对图片降噪,二值化 或者canny操作"
   ]
  },
  {
   "cell_type": "code",
   "execution_count": 1,
   "id": "ca2b4d6b",
   "metadata": {},
   "outputs": [
    {
     "data": {
      "text/plain": [
       "'4.6.0'"
      ]
     },
     "execution_count": 1,
     "metadata": {},
     "output_type": "execute_result"
    }
   ],
   "source": [
    "import cv2\n",
    "import numpy as np\n",
    "cv2.__version__"
   ]
  },
  {
   "cell_type": "code",
   "execution_count": 3,
   "id": "66108a62",
   "metadata": {},
   "outputs": [],
   "source": [
    "# 注意 这个api返回有区别(大坑)\n",
    "# findContours(image, mode, method[, contours[, hierarchy[, offset]]]) -> contours, hierarchy   4.6.0\n",
    "# findContours(image, mode, method[, contours[, hierarchy[, offset]]]) -> image, contours, hierarch 3.4.1\n",
    "\n",
    "# mode 查找轮廓的模式 返回值轮廓的索引编号方式\n",
    "# \n",
    "# cv2.RETR_EXTERNAL =0 只检测外围轮廓\n",
    "# cv2.RETR_LIST = 1 不建立等级关系,检测所有轮廓   不太好理解\n",
    "# cv2.RETR_CCOMP =2 每层最多两级 不太好理解\n",
    "# cv2.RETR_TREE =3 按照树形排列 从大到小,从右到左 人最好理解 最右边的最里面的轮廓为0\n",
    "\n",
    "'''\n",
    "通常情况下，我们会使用cv2.findContours() 函数来检测图像中的对象。\n",
    "但是有时物体会在不同的位置。但在某些情况下，有一些形状会存在于其他形状里，就像是嵌套的图形。\n",
    "在这种情况下，我们称外部形状为父类 parent，称内部的为子类 child；\n",
    "这样，图像中的轮廓就有了某种联系。我们可以指定轮廓是如何相互连接的，\n",
    "比如，这个轮廓是另一个轮廓的子类，或则是它的父类等等。这种关系的表示形式称为层级/层次结构。\n",
    "'''\n",
    "# method 保存轮廓的近似方法\n",
    "# \n",
    "# cv2.CHAIN_APPROX_NONE 轮廓上的所有点\n",
    "# cv2.CHAIN_APPROX_SIMPLE 只保存角点(比如四边形的四个顶点)\n",
    "pass"
   ]
  },
  {
   "cell_type": "code",
   "execution_count": 7,
   "id": "42198867",
   "metadata": {},
   "outputs": [],
   "source": [
    "img = cv2.imread('./ex_img.png')\n",
    "img = cv2.cvtColor(img,cv2.COLOR_BGR2GRAY)"
   ]
  },
  {
   "cell_type": "markdown",
   "id": "f7561de5",
   "metadata": {},
   "source": [
    "![img](./ex_img.png)"
   ]
  },
  {
   "cell_type": "code",
   "execution_count": 10,
   "id": "71cf41ec",
   "metadata": {},
   "outputs": [],
   "source": [
    "ex1 = cv2.Canny(img,100,200)"
   ]
  },
  {
   "cell_type": "code",
   "execution_count": 11,
   "id": "1e0cd6e9",
   "metadata": {},
   "outputs": [],
   "source": [
    "threshold ,ex2 =cv2.threshold(img,127,255,cv2.THRESH_BINARY)"
   ]
  },
  {
   "cell_type": "code",
   "execution_count": 13,
   "id": "a91f71ff",
   "metadata": {},
   "outputs": [
    {
     "data": {
      "text/plain": [
       "True"
      ]
     },
     "execution_count": 13,
     "metadata": {},
     "output_type": "execute_result"
    }
   ],
   "source": [
    "show_ex = np.hstack((img,ex1,ex2))\n",
    "cv2.imshow('ex',show_ex)\n",
    "cv2.waitKey(0)\n",
    "cv2.destroyAllWindows()\n",
    "cv2.imwrite('show_ex.jpg',show_ex)"
   ]
  },
  {
   "cell_type": "markdown",
   "id": "0a91e1d1",
   "metadata": {},
   "source": [
    "![img](./show_ex.jpg)"
   ]
  },
  {
   "cell_type": "code",
   "execution_count": 18,
   "id": "a86f3aca",
   "metadata": {},
   "outputs": [
    {
     "name": "stdout",
     "output_type": "stream",
     "text": [
      "<class 'tuple'> <class 'numpy.ndarray'>\n"
     ]
    }
   ],
   "source": [
    "# 查找轮廓(注意版本api的返回值个数,类型)\n",
    "contours, hierarchy = cv2.findContours(show_ex,cv2.RETR_TREE,cv2.CHAIN_APPROX_SIMPLE)\n",
    "print(type(contours),type(hierarchy))"
   ]
  },
  {
   "cell_type": "code",
   "execution_count": 19,
   "id": "3a7e2fb5",
   "metadata": {},
   "outputs": [
    {
     "data": {
      "text/plain": [
       "(1686, (1, 1686, 4))"
      ]
     },
     "execution_count": 19,
     "metadata": {},
     "output_type": "execute_result"
    }
   ],
   "source": [
    "len(contours),hierarchy.shape # hierarchy一般不关心"
   ]
  },
  {
   "cell_type": "code",
   "execution_count": 25,
   "id": "d77e0c88",
   "metadata": {},
   "outputs": [
    {
     "data": {
      "text/plain": [
       "(array([[[326, 508]],\n",
       " \n",
       "        [[423, 508]]], dtype=int32),\n",
       " array([[[310, 507]],\n",
       " \n",
       "        [[309, 508]],\n",
       " \n",
       "        [[268, 508]],\n",
       " \n",
       "        [[322, 508]],\n",
       " \n",
       "        [[311, 508]]], dtype=int32))"
      ]
     },
     "execution_count": 25,
     "metadata": {},
     "output_type": "execute_result"
    }
   ],
   "source": [
    "# contours 里面是每一个元素是一个轮廓(折线边)所有点的坐标\n",
    "contours[0],contours[5]"
   ]
  },
  {
   "cell_type": "code",
   "execution_count": 32,
   "id": "82b29e2e",
   "metadata": {},
   "outputs": [],
   "source": [
    "# 画轮廓 drawContours(image, contours, contourIdx, color\n",
    "#                    [, thickness[, lineType[, hierarchy[, maxLevel[, offset]]]]]) -> image\n",
    "draw_ex = show_ex.copy()\n",
    "draw_ex = cv2.cvtColor(draw_ex,cv2.COLOR_GRAY2BGR)\n",
    "draw_ex = cv2.drawContours(draw_ex,contours,-1,(0,0,255),thickness=1) # -1表示所有的轮廓\n",
    "\n",
    "cv2.imshow('ex',draw_ex)\n",
    "cv2.waitKey(0)\n",
    "cv2.destroyAllWindows()"
   ]
  },
  {
   "cell_type": "code",
   "execution_count": 37,
   "id": "caed6d0c",
   "metadata": {},
   "outputs": [],
   "source": [
    "# 想绘制指定的轮廓 ,发现数量特别多的时候,索引不好找\n",
    "\n",
    "draw_ex = show_ex.copy()\n",
    "draw_ex = cv2.cvtColor(draw_ex,cv2.COLOR_GRAY2BGR)\n",
    "draw_ex = cv2.drawContours(draw_ex,contours,10,(0,0,255),thickness=1) # -1表示所有的轮廓\n",
    "\n",
    "cv2.imshow('ex',draw_ex)\n",
    "cv2.waitKey(0)\n",
    "cv2.destroyAllWindows()"
   ]
  },
  {
   "cell_type": "code",
   "execution_count": 54,
   "id": "e4141502",
   "metadata": {},
   "outputs": [
    {
     "name": "stdout",
     "output_type": "stream",
     "text": [
      "0.0 194.0\n"
     ]
    }
   ],
   "source": [
    "# 利用轮廓的属性查找过滤\n",
    "\n",
    "contours, hierarchy = cv2.findContours(show_ex,cv2.RETR_TREE,cv2.CHAIN_APPROX_SIMPLE)\n",
    "\n",
    "# 计算轮廓的面积\n",
    "Area = cv2.contourArea(contours[0])\n",
    "\n",
    "# 计算轮廓的周长\n",
    "arcLength = cv2.arcLength(contours[0],closed=True)\n",
    "# print(Area,arcLength)\n",
    "\n",
    "# 比如 找出10个面积最大的轮廓\n",
    "Areas = np.array([cv2.contourArea(i) for i in contours])\n",
    "index = np.argsort(Areas)\n",
    "filter_contours =[]\n",
    "for i in index[-10:]:\n",
    "    filter_contours.append(contours[i])\n",
    "\n",
    "# print(filter_contours)\n",
    "\n",
    "# 画出筛选出来的轮廓\n",
    "draw_ex = show_ex.copy()\n",
    "draw_ex = cv2.cvtColor(draw_ex,cv2.COLOR_GRAY2BGR)\n",
    "draw_ex = cv2.drawContours(draw_ex,filter_contours,-1,(0,0,255),thickness=1) # -1表示所有的轮廓\n",
    "\n",
    "cv2.imshow('ex',draw_ex)\n",
    "cv2.waitKey(0)\n",
    "cv2.destroyAllWindows()"
   ]
  },
  {
   "cell_type": "code",
   "execution_count": 55,
   "id": "df8f0b56",
   "metadata": {},
   "outputs": [],
   "source": [
    "# findContours找出来的轮廓可能比较复杂不平滑,可以使用多边形逼近的方法做适当的近似\n",
    "# approxPolyDP(curve(轮廓), epsilon(阈值), closed[, approxCurve]) -> approxCurve\n",
    "\n",
    "'''\n",
    "（1）在曲线首尾两点A，B之间连接一条直线AB，该直线为曲线的弦；\n",
    "\n",
    "（2）得到曲线上离该直线段距离最大的点C，计算其与AB的距离d；\n",
    "\n",
    "（3）比较该距离与预先给定的阈值threshold的大小，如果小于threshold，则该直线段作为曲线的近似，该段曲线处理完毕。\n",
    "\n",
    "（4）如果距离大于阈值，则用C将曲线分为两段AC和BC，并分别对两段取信进行1~3的处理。\n",
    "\n",
    "（5）当所有曲线都处理完毕时，依次连接各个分割点形成的折线，即可以作为曲线的近似。\n",
    "\n",
    "'''\n",
    "pass\n"
   ]
  },
  {
   "cell_type": "code",
   "execution_count": 86,
   "id": "a94340fb",
   "metadata": {},
   "outputs": [],
   "source": [
    "# 读取图片\n",
    "img = cv2.imread('./ex_img.png')\n",
    "img = cv2.cvtColor(img,cv2.COLOR_BGR2GRAY)\n",
    "# 二值化\n",
    "threshold ,ex2 =cv2.threshold(img,127,255,cv2.THRESH_BINARY)\n",
    "\n",
    "# 查找轮廓\n",
    "contours, hierarchy = cv2.findContours(ex1,cv2.RETR_TREE,cv2.CHAIN_APPROX_SIMPLE)\n",
    "# print(len(contours))\n",
    "\n",
    "# 画轮廓\n",
    "draw_ex = img.copy()\n",
    "draw_ex = cv2.cvtColor(draw_ex,cv2.COLOR_GRAY2BGR)\n",
    "draw_ex = cv2.drawContours(draw_ex,contours,5,(0,0,255),thickness=2) # 找一个轮廓来演示\n",
    "\n",
    "# 使用多边形逼近\n",
    "newcontour =  cv2.approxPolyDP(contours[5],6,True) # 返回值就是一个轮廓\n",
    "# 调用画轮廓的api\n",
    "draw_ex = cv2.drawContours(draw_ex,[newcontour],0,(0,255,0),thickness=2) \n",
    "# 要符合格式要求,这里本身就是一个轮廓,封装成列表,然后索引0取出本身\n",
    "\n",
    "\n",
    "cv2.imshow('ex',draw_ex)\n",
    "cv2.waitKey(0)\n",
    "cv2.destroyAllWindows()"
   ]
  },
  {
   "cell_type": "code",
   "execution_count": 98,
   "id": "f2c8866b",
   "metadata": {},
   "outputs": [],
   "source": [
    "# 凸包 画出轮廓的外接凸多边形\n",
    "# convexHull(points[, hull[, clockwise[, returnPoints]]]) -> hull\n",
    "\n",
    "# 读取图片\n",
    "img = cv2.imread('./ex_img.png')\n",
    "img = cv2.cvtColor(img,cv2.COLOR_BGR2GRAY)\n",
    "# 二值化\n",
    "threshold ,ex2 =cv2.threshold(img,127,255,cv2.THRESH_BINARY)\n",
    "\n",
    "# 查找轮廓\n",
    "contours, hierarchy = cv2.findContours(ex1,cv2.RETR_TREE,cv2.CHAIN_APPROX_SIMPLE)\n",
    "# print(len(contours))\n",
    "\n",
    "# 画轮廓\n",
    "draw_ex = img.copy()\n",
    "draw_ex = cv2.cvtColor(draw_ex,cv2.COLOR_GRAY2BGR)\n",
    "draw_ex = cv2.drawContours(draw_ex,contours,1,(0,0,255),thickness=2) # 找一个轮廓来演示\n",
    "\n",
    "# 使用多边形逼近\n",
    "newcontour =  cv2.approxPolyDP(contours[1],3,True) # 返回值就是一个轮廓\n",
    "# 调用画轮廓的api\n",
    "draw_ex = cv2.drawContours(draw_ex,[newcontour],0,(0,255,0),thickness=2) \n",
    "# 要符合格式要求,这里本身就是一个轮廓,封装成列表,然后索引0取出本身\n",
    "\n",
    "# 使用凸包\n",
    "hall = cv2.convexHull(contours[1])\n",
    "draw_ex = cv2.drawContours(draw_ex,[hall],0,(255,0,0),thickness=2) \n",
    "\n",
    "cv2.imshow('ex',draw_ex)\n",
    "cv2.waitKey(0)\n",
    "cv2.destroyAllWindows()"
   ]
  },
  {
   "cell_type": "code",
   "execution_count": null,
   "id": "28779650",
   "metadata": {},
   "outputs": [],
   "source": [
    "# 画外接矩形\n",
    "# minAreaRect(points) -> retval 最小外接矩形 (旋转矩形) 调用 cv2.boxPoint()接口解析坐标点\n",
    "# boundingRect(array) -> retval 最大外接矩形\n"
   ]
  },
  {
   "cell_type": "markdown",
   "id": "872ac8fd",
   "metadata": {},
   "source": [
    "### 旋转矩形在opencv中的表示\n",
    "<img src=\"./20210831164909520.png\" width=200 height=200>"
   ]
  },
  {
   "cell_type": "code",
   "execution_count": 111,
   "id": "da73241c",
   "metadata": {},
   "outputs": [
    {
     "name": "stdout",
     "output_type": "stream",
     "text": [
      "2\n",
      "((144.19400024414062, 161.71783447265625), (141.90843200683594, 41.06708526611328), 74.87599182128906)\n",
      "[[105  98]\n",
      " [145  87]\n",
      " [182 224]\n",
      " [142 235]]\n",
      "(133, 88, 50, 138)\n"
     ]
    }
   ],
   "source": [
    "\n",
    "img = cv2.imread('./2023-09-17_221452.png')\n",
    "img = cv2.cvtColor(img,cv2.COLOR_BGR2GRAY)\n",
    "\n",
    "# 二值化\n",
    "threshold ,ex2 =cv2.threshold(img,127,255,cv2.THRESH_BINARY)\n",
    "\n",
    "# 查找轮廓\n",
    "contours, hierarchy = cv2.findContours(ex2,cv2.RETR_TREE,cv2.CHAIN_APPROX_SIMPLE)\n",
    "print(len(contours))\n",
    "# 画轮廓\n",
    "draw_ex = img.copy()\n",
    "draw_ex = cv2.cvtColor(draw_ex,cv2.COLOR_GRAY2BGR)\n",
    "draw_ex = cv2.drawContours(draw_ex,contours,0,(0,0,255),thickness=1) # 找一个轮廓来演示\n",
    "\n",
    "# 画最小外接矩形 \n",
    "rect = cv2.minAreaRect(contours[0]) \n",
    "print(rect) # ((x,y),(w,h),θ)\n",
    "# 解析4个点坐标\n",
    "boxpoints =  cv2.boxPoints(rect)\n",
    "boxpoints = boxpoints.astype(np.int64) # 注意用于画图坐标需要是整数(注意取整精度问题)\n",
    "print(boxpoints)\n",
    "draw_ex = cv2.drawContours(draw_ex,[boxpoints],0,(0,255,0),thickness=1)\n",
    "\n",
    "# 画最大外接矩形\n",
    "x,y,w,h = cv2.boundingRect(contours[0])\n",
    "print(xywh)\n",
    "cv2.rectangle(draw_ex,(x,y),(x+w,y+h),(255,0,0))\n",
    "\n",
    "cv2.imshow('ex',draw_ex)\n",
    "cv2.waitKey(0)\n",
    "cv2.destroyAllWindows()"
   ]
  },
  {
   "cell_type": "code",
   "execution_count": 117,
   "id": "4125dabd",
   "metadata": {},
   "outputs": [],
   "source": [
    "# 外接圆\n",
    "# minEnclosingCircle(points) -> center, radius\n",
    "\n",
    "img = cv2.imread('./2023-09-17_221452.png')\n",
    "img = cv2.cvtColor(img,cv2.COLOR_BGR2GRAY)\n",
    "\n",
    "# 二值化\n",
    "threshold ,ex2 =cv2.threshold(img,127,255,cv2.THRESH_BINARY)\n",
    "\n",
    "# 查找轮廓\n",
    "contours, hierarchy = cv2.findContours(ex2,cv2.RETR_TREE,cv2.CHAIN_APPROX_SIMPLE)\n",
    "\n",
    "# 画轮廓\n",
    "draw_ex = img.copy()\n",
    "draw_ex = cv2.cvtColor(draw_ex,cv2.COLOR_GRAY2BGR)\n",
    "draw_ex = cv2.drawContours(draw_ex,contours,0,(0,0,255),thickness=1) # 找一个轮廓来演示\n",
    "\n",
    "# 画最小外接圆\n",
    "center, radius= cv2.minEnclosingCircle(contours[0])\n",
    "center = [int(i) for i in center]\n",
    "radius = int(radius)\n",
    "cv2.circle(draw_ex ,center, radius,(255,0,0))\n",
    "\n",
    "cv2.imshow('ex',draw_ex)\n",
    "cv2.waitKey(0)\n",
    "cv2.destroyAllWindows()"
   ]
  },
  {
   "cell_type": "code",
   "execution_count": null,
   "id": "56074ab6",
   "metadata": {},
   "outputs": [],
   "source": []
  }
 ],
 "metadata": {
  "kernelspec": {
   "display_name": "yolo7_pytorch",
   "language": "python",
   "name": "yolo7_pytorch"
  },
  "language_info": {
   "codemirror_mode": {
    "name": "ipython",
    "version": 3
   },
   "file_extension": ".py",
   "mimetype": "text/x-python",
   "name": "python",
   "nbconvert_exporter": "python",
   "pygments_lexer": "ipython3",
   "version": "3.10.9"
  }
 },
 "nbformat": 4,
 "nbformat_minor": 5
}
